{
 "cells": [
  {
   "cell_type": "code",
   "execution_count": null,
   "id": "e3c0eb5e",
   "metadata": {},
   "outputs": [],
   "source": [
    "#arithemic operations\n",
    "#a simple calculator\n",
    "a=int(input(\"Enter the first number:\"))\n",
    "b=int(input(\"Enter the second number:\"))\n",
    "\n",
    "sum= a+b\n",
    "sub=a-b\n",
    "mul=a*b\n",
    "div=a/b\n",
    "floor_div=a//b# gives only the integer part\n",
    "mod= a%b #gives remainder\n",
    "\n",
    "print(sum)\n",
    "print(sub)\n",
    "print(mul)\n",
    "print(div)\n",
    "print(floor_div)"
   ]
  },
  {
   "cell_type": "code",
   "execution_count": 2,
   "id": "17aab3e2",
   "metadata": {},
   "outputs": [
    {
     "name": "stdout",
     "output_type": "stream",
     "text": [
      "True\n",
      "False\n"
     ]
    }
   ],
   "source": [
    "#comparision operators\n",
    "\n",
    "# equal to comparator ==\n",
    "a=10\n",
    "b=10\n",
    "print(a==b)\n",
    "\n",
    "# not equal to comparator !=\n",
    "print(a!=b)\n"
   ]
  },
  {
   "cell_type": "code",
   "execution_count": 4,
   "id": "c7593b1b",
   "metadata": {},
   "outputs": [
    {
     "name": "stdout",
     "output_type": "stream",
     "text": [
      "False\n",
      "True\n"
     ]
    }
   ],
   "source": [
    "#greater than > and less than <\n",
    "\n",
    "a=45\n",
    "b=76\n",
    "\n",
    "print(a>b)\n",
    "print(a<b)"
   ]
  },
  {
   "cell_type": "code",
   "execution_count": 7,
   "id": "205c94c8",
   "metadata": {},
   "outputs": [
    {
     "name": "stdout",
     "output_type": "stream",
     "text": [
      "True\n",
      "True\n",
      "False\n"
     ]
    }
   ],
   "source": [
    "#logical operators and or not\n",
    "x= True\n",
    "y= True\n",
    "print(x and y)\n",
    "print( x or y)\n",
    "print(not x)\n"
   ]
  }
 ],
 "metadata": {
  "kernelspec": {
   "display_name": "base",
   "language": "python",
   "name": "python3"
  },
  "language_info": {
   "codemirror_mode": {
    "name": "ipython",
    "version": 3
   },
   "file_extension": ".py",
   "mimetype": "text/x-python",
   "name": "python",
   "nbconvert_exporter": "python",
   "pygments_lexer": "ipython3",
   "version": "3.12.7"
  }
 },
 "nbformat": 4,
 "nbformat_minor": 5
}
