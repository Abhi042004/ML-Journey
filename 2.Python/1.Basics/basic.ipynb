{
 "cells": [
  {
   "cell_type": "code",
   "execution_count": 1,
   "id": "1fa7d62b",
   "metadata": {},
   "outputs": [
    {
     "name": "stdout",
     "output_type": "stream",
     "text": [
      "Hello World\n"
     ]
    }
   ],
   "source": [
    "print(\"Hello World\")"
   ]
  },
  {
   "cell_type": "code",
   "execution_count": null,
   "id": "b336f73d",
   "metadata": {},
   "outputs": [],
   "source": [
    "#Python is case sensitive\n",
    "name = \"Abhishek\"\n",
    "Name = \"Abhi\"\n",
    "print(name)\n",
    "print(Name)"
   ]
  },
  {
   "cell_type": "code",
   "execution_count": null,
   "id": "4cb44bd2",
   "metadata": {},
   "outputs": [],
   "source": [
    "#Indentation shows all the statements withing a block should be indented at the same level \n",
    "age = 18\n",
    "if age>=18:\n",
    "    print(\"You are eligible to vote\")\n",
    "else: \n",
    "    print(\"You have to be above 18yrs old to vote\")    "
   ]
  },
  {
   "cell_type": "code",
   "execution_count": null,
   "id": "ddfe7dee",
   "metadata": {},
   "outputs": [],
   "source": [
    "#Line continuation\n",
    "#Use a backslash to continue line to the next line if you want\n",
    "sum = 1+2+3+4+5+6+ \\\n",
    "7+8+9\n",
    "print(sum)"
   ]
  },
  {
   "cell_type": "code",
   "execution_count": null,
   "id": "385da9cf",
   "metadata": {},
   "outputs": [],
   "source": [
    "#Multiple statements in a single line\n",
    "age=5;x=9;name=\"ab\"\n",
    "#it can be separated using a semi colon"
   ]
  },
  {
   "cell_type": "code",
   "execution_count": null,
   "id": "66cafc24",
   "metadata": {},
   "outputs": [
    {
     "name": "stdout",
     "output_type": "stream",
     "text": [
      "<class 'int'>\n",
      "<class 'str'>\n"
     ]
    }
   ],
   "source": [
    "# type() function also known as type inference is used to identify the type of the variable\n",
    "age=5\n",
    "print(type(age))\n",
    "age=\"ab\"\n",
    "print(type(age))\n",
    "#we can change the type of variables during run time"
   ]
  }
 ],
 "metadata": {
  "kernelspec": {
   "display_name": "base",
   "language": "python",
   "name": "python3"
  },
  "language_info": {
   "codemirror_mode": {
    "name": "ipython",
    "version": 3
   },
   "file_extension": ".py",
   "mimetype": "text/x-python",
   "name": "python",
   "nbconvert_exporter": "python",
   "pygments_lexer": "ipython3",
   "version": "3.12.7"
  }
 },
 "nbformat": 4,
 "nbformat_minor": 5
}
