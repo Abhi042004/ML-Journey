{
 "cells": [
  {
   "cell_type": "code",
   "execution_count": 2,
   "id": "83e2c7b8",
   "metadata": {},
   "outputs": [
    {
     "name": "stdout",
     "output_type": "stream",
     "text": [
      "100\n"
     ]
    }
   ],
   "source": [
    "#Variables it is use to store the data\n",
    "a=100\n",
    "print(a)\n"
   ]
  },
  {
   "cell_type": "code",
   "execution_count": 3,
   "id": "d753b4f9",
   "metadata": {},
   "outputs": [],
   "source": [
    "#there are different data types\n",
    "age=18#is an integer\n",
    "height=6.1# is a float\n",
    "name=\"ABHI\" #is a string\n",
    "is_True=False # it is a boolean datatype"
   ]
  },
  {
   "cell_type": "code",
   "execution_count": 4,
   "id": "768b740e",
   "metadata": {},
   "outputs": [
    {
     "name": "stdout",
     "output_type": "stream",
     "text": [
      "<class 'str'>\n"
     ]
    }
   ],
   "source": [
    "# Checking the type and type conversion\n",
    "\n",
    "age= 18\n",
    "age=str(age)\n",
    "print(type(age))"
   ]
  },
  {
   "cell_type": "code",
   "execution_count": 5,
   "id": "483e1a6f",
   "metadata": {},
   "outputs": [
    {
     "name": "stdout",
     "output_type": "stream",
     "text": [
      "8\n",
      "hello\n"
     ]
    }
   ],
   "source": [
    "#Python allows us change the type of the variable while running the program\n",
    "age =8\n",
    "print(age)\n",
    "age=\"hello\"\n",
    "print(age)"
   ]
  },
  {
   "cell_type": "code",
   "execution_count": 1,
   "id": "3a2f0197",
   "metadata": {},
   "outputs": [
    {
     "name": "stdout",
     "output_type": "stream",
     "text": [
      "5 <class 'int'>\n"
     ]
    }
   ],
   "source": [
    "#taking input\n",
    "age = int(input(\"What is your age?\\n\"))\n",
    "print(age,type(age))"
   ]
  },
  {
   "cell_type": "code",
   "execution_count": null,
   "id": "d06cb03b",
   "metadata": {},
   "outputs": [
    {
     "name": "stdout",
     "output_type": "stream",
     "text": [
      "18\n",
      "0\n",
      "81\n",
      "1.0\n"
     ]
    }
   ],
   "source": [
    "#a simple calculator\n",
    "a=int(input(\"Enter the first number:\"))\n",
    "b=int(input(\"Enter the second number:\"))\n",
    "\n",
    "sum = a+b\n",
    "sub = a-b\n",
    "mul = a*b\n",
    "div = a/b\n",
    "\n",
    "print(sum)\n",
    "print(sub)\n",
    "print(mul)\n",
    "print(div)"
   ]
  }
 ],
 "metadata": {
  "kernelspec": {
   "display_name": "base",
   "language": "python",
   "name": "python3"
  },
  "language_info": {
   "codemirror_mode": {
    "name": "ipython",
    "version": 3
   },
   "file_extension": ".py",
   "mimetype": "text/x-python",
   "name": "python",
   "nbconvert_exporter": "python",
   "pygments_lexer": "ipython3",
   "version": "3.12.7"
  }
 },
 "nbformat": 4,
 "nbformat_minor": 5
}
