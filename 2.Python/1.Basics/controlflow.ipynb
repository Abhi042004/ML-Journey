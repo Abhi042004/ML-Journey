{
 "cells": [
  {
   "cell_type": "code",
   "execution_count": null,
   "id": "3974d04a",
   "metadata": {},
   "outputs": [],
   "source": [
    "#if else statements\n",
    "\n",
    "age=20\n",
    "\n",
    "if age>=18:\n",
    "    print(\"You are allowed to vote\")\n",
    "else:\n",
    "    print(\"You are not allowed to vote\")    "
   ]
  },
  {
   "cell_type": "code",
   "execution_count": 1,
   "id": "14220088",
   "metadata": {},
   "outputs": [
    {
     "name": "stdout",
     "output_type": "stream",
     "text": [
      "You are a teenager\n"
     ]
    }
   ],
   "source": [
    "#elif statements stands for else if\n",
    "\n",
    "age=17\n",
    "\n",
    "if age>=18:\n",
    "    print(\"You are an adult\")\n",
    "elif age>=13:\n",
    "    print(\"You are a teenager\")    \n",
    "else:\n",
    "    print(\"You are a child\")    "
   ]
  }
 ],
 "metadata": {
  "kernelspec": {
   "display_name": "base",
   "language": "python",
   "name": "python3"
  },
  "language_info": {
   "codemirror_mode": {
    "name": "ipython",
    "version": 3
   },
   "file_extension": ".py",
   "mimetype": "text/x-python",
   "name": "python",
   "nbconvert_exporter": "python",
   "pygments_lexer": "ipython3",
   "version": "3.12.7"
  }
 },
 "nbformat": 4,
 "nbformat_minor": 5
}
