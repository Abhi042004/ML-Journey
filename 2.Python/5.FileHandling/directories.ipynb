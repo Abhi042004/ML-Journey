{
 "cells": [
  {
   "cell_type": "code",
   "execution_count": 1,
   "id": "942b19e2",
   "metadata": {},
   "outputs": [],
   "source": [
    "# Creating a directory\n",
    "import os"
   ]
  },
  {
   "cell_type": "code",
   "execution_count": 4,
   "id": "037fc11d",
   "metadata": {},
   "outputs": [
    {
     "name": "stdout",
     "output_type": "stream",
     "text": [
      "Package is created\n"
     ]
    }
   ],
   "source": [
    "# os.mkdir(\"package\")\n",
    "print(\"Package is created\")"
   ]
  },
  {
   "cell_type": "code",
   "execution_count": 5,
   "id": "0af72870",
   "metadata": {},
   "outputs": [
    {
     "name": "stdout",
     "output_type": "stream",
     "text": [
      "['directories.ipynb', 'example.txt', 'fileOperation.ipynb', 'package']\n"
     ]
    }
   ],
   "source": [
    "# listing current directory files\n",
    "items = os.listdir('.')\n",
    "print(items)"
   ]
  }
 ],
 "metadata": {
  "kernelspec": {
   "display_name": "base",
   "language": "python",
   "name": "python3"
  },
  "language_info": {
   "codemirror_mode": {
    "name": "ipython",
    "version": 3
   },
   "file_extension": ".py",
   "mimetype": "text/x-python",
   "name": "python",
   "nbconvert_exporter": "python",
   "pygments_lexer": "ipython3",
   "version": "3.12.7"
  }
 },
 "nbformat": 4,
 "nbformat_minor": 5
}
