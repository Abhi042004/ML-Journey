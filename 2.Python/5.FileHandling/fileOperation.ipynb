{
 "cells": [
  {
   "cell_type": "markdown",
   "id": "1e8cc797",
   "metadata": {},
   "source": [
    "### File Handling"
   ]
  },
  {
   "cell_type": "code",
   "execution_count": 2,
   "id": "05b9d2d3",
   "metadata": {},
   "outputs": [
    {
     "name": "stdout",
     "output_type": "stream",
     "text": [
      "hello my name is abhishek \n",
      "i am learning this course\n",
      "as well as practicing dsa daily\n"
     ]
    }
   ],
   "source": [
    "with open(\"example.txt\",'r') as file:\n",
    "    content = file.read()\n",
    "    print(content)"
   ]
  },
  {
   "cell_type": "code",
   "execution_count": 4,
   "id": "95caa2ce",
   "metadata": {},
   "outputs": [
    {
     "name": "stdout",
     "output_type": "stream",
     "text": [
      "hello my name is abhishek\n",
      "i am learning this course\n",
      "as well as practicing dsa daily\n"
     ]
    }
   ],
   "source": [
    "# For reading the file line by line\n",
    "with open(\"example.txt\",'r') as file:\n",
    "    for line in file:\n",
    "        print(line.strip()) #strip removes the new line character"
   ]
  },
  {
   "cell_type": "code",
   "execution_count": 9,
   "id": "db444575",
   "metadata": {},
   "outputs": [],
   "source": [
    "# Overwriting a file\n",
    "with open(\"example.txt\",'w') as file:\n",
    "    file.write(\"This is a completely new file\\n\")\n",
    "    file.write(\"It has been overwritten\\n\")"
   ]
  },
  {
   "cell_type": "code",
   "execution_count": 11,
   "id": "f12d3786",
   "metadata": {},
   "outputs": [],
   "source": [
    "# Writing in a file without overwriting\n",
    "with open('example.txt','a') as file:\n",
    "    file.write(\"This is a completely new file\\n\")\n",
    "    file.write(\"It has been overwritten\")"
   ]
  },
  {
   "cell_type": "code",
   "execution_count": 14,
   "id": "28acbd43",
   "metadata": {},
   "outputs": [
    {
     "name": "stdout",
     "output_type": "stream",
     "text": [
      "This is a completely new file\n",
      "It has been overwritten\n",
      "This is a completely new file\n",
      "It has been overwrittenThis is a completely new file\n",
      "It has been overwrittenhi\n",
      "Google\n",
      "Do codinghi\n",
      "Google\n",
      "Do codinghi\n",
      "Google\n",
      "Do coding\n"
     ]
    }
   ],
   "source": [
    "# Writing multiple lines\n",
    "lines=[\"hi\\n\",\"Google\\n\",\"Do coding\"]\n",
    "with open(\"example.txt\",'a') as file:\n",
    "    file.writelines(lines) \n",
    "    file.seek(0)\n",
    "with open(\"example.txt\", 'r') as file:\n",
    "    content = file.read()\n",
    "    print(content)"
   ]
  },
  {
   "cell_type": "code",
   "execution_count": null,
   "id": "2ff1775a",
   "metadata": {},
   "outputs": [],
   "source": []
  }
 ],
 "metadata": {
  "kernelspec": {
   "display_name": "base",
   "language": "python",
   "name": "python3"
  },
  "language_info": {
   "codemirror_mode": {
    "name": "ipython",
    "version": 3
   },
   "file_extension": ".py",
   "mimetype": "text/x-python",
   "name": "python",
   "nbconvert_exporter": "python",
   "pygments_lexer": "ipython3",
   "version": "3.12.7"
  }
 },
 "nbformat": 4,
 "nbformat_minor": 5
}
