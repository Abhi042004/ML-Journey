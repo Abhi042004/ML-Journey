{
 "cells": [
  {
   "cell_type": "markdown",
   "id": "3f851988",
   "metadata": {},
   "source": [
    "### Iterators"
   ]
  },
  {
   "cell_type": "markdown",
   "id": "f8d3e17d",
   "metadata": {},
   "source": [
    "It is a advance python conecpt allows for efficient looping and memory managaement.  \n",
    "Iterators provide a way to access collection of element sequentially without exposing the underlying structure"
   ]
  },
  {
   "cell_type": "code",
   "execution_count": 25,
   "id": "212ebc72",
   "metadata": {},
   "outputs": [
    {
     "name": "stdout",
     "output_type": "stream",
     "text": [
      "1\n",
      "2\n",
      "3\n",
      "4\n",
      "5\n",
      "6\n"
     ]
    }
   ],
   "source": [
    "mylist = [1,2,3,4,5,6]\n",
    "for i in mylist:\n",
    "    print(i)"
   ]
  },
  {
   "cell_type": "code",
   "execution_count": 26,
   "id": "0bce7fae",
   "metadata": {},
   "outputs": [],
   "source": [
    "# How to create an iterator ... iter keyword\n",
    "iterator = iter(mylist)"
   ]
  },
  {
   "cell_type": "code",
   "execution_count": 27,
   "id": "e18c4ba3",
   "metadata": {},
   "outputs": [
    {
     "name": "stdout",
     "output_type": "stream",
     "text": [
      "<list_iterator object at 0x000001FA7BF75960>\n"
     ]
    }
   ],
   "source": [
    "# iter follow lazy loding technique it returns the memory location \n",
    "print(iterator)"
   ]
  },
  {
   "cell_type": "code",
   "execution_count": 31,
   "id": "5a03c88f",
   "metadata": {},
   "outputs": [
    {
     "data": {
      "text/plain": [
       "4"
      ]
     },
     "execution_count": 31,
     "metadata": {},
     "output_type": "execute_result"
    }
   ],
   "source": [
    "# so we use next function to iterate through it\n",
    "next(iterator)\n",
    "# it iterates until end of the list"
   ]
  },
  {
   "cell_type": "code",
   "execution_count": 23,
   "id": "24ab61c7",
   "metadata": {},
   "outputs": [
    {
     "name": "stdout",
     "output_type": "stream",
     "text": [
      "There are no elements in the list\n"
     ]
    }
   ],
   "source": [
    "try:\n",
    "    print(next(iterator))\n",
    "except StopIteration:\n",
    "    print(\"There are no elements in the list\")    "
   ]
  }
 ],
 "metadata": {
  "kernelspec": {
   "display_name": "Python 3",
   "language": "python",
   "name": "python3"
  },
  "language_info": {
   "codemirror_mode": {
    "name": "ipython",
    "version": 3
   },
   "file_extension": ".py",
   "mimetype": "text/x-python",
   "name": "python",
   "nbconvert_exporter": "python",
   "pygments_lexer": "ipython3",
   "version": "3.12.11"
  }
 },
 "nbformat": 4,
 "nbformat_minor": 5
}
