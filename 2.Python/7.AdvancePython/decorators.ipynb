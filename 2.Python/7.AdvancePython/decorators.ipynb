{
 "cells": [
  {
   "cell_type": "markdown",
   "id": "a50bec0f",
   "metadata": {},
   "source": [
    "### Decorators"
   ]
  },
  {
   "cell_type": "markdown",
   "id": "a3a55d56",
   "metadata": {},
   "source": [
    "They are powerfull way to add features to a function or a class.They are used to add functionality without modifying actual code"
   ]
  },
  {
   "cell_type": "code",
   "execution_count": 5,
   "id": "13d45817",
   "metadata": {},
   "outputs": [],
   "source": [
    "#function copy\n",
    "\n",
    "def welcome():\n",
    "    return \"Welcome to this advance python course\""
   ]
  },
  {
   "cell_type": "code",
   "execution_count": 8,
   "id": "32f61b96",
   "metadata": {},
   "outputs": [
    {
     "data": {
      "text/plain": [
       "'Welcome to this advance python course'"
      ]
     },
     "execution_count": 8,
     "metadata": {},
     "output_type": "execute_result"
    }
   ],
   "source": [
    "w = welcome\n",
    "w() # this is a function copy"
   ]
  },
  {
   "cell_type": "code",
   "execution_count": 11,
   "id": "d14d2d19",
   "metadata": {},
   "outputs": [
    {
     "ename": "NameError",
     "evalue": "name 'welcome' is not defined",
     "output_type": "error",
     "traceback": [
      "\u001b[31m---------------------------------------------------------------------------\u001b[39m",
      "\u001b[31mNameError\u001b[39m                                 Traceback (most recent call last)",
      "\u001b[36mCell\u001b[39m\u001b[36m \u001b[39m\u001b[32mIn[11]\u001b[39m\u001b[32m, line 2\u001b[39m\n\u001b[32m      1\u001b[39m \u001b[38;5;66;03m# deleting welcome\u001b[39;00m\n\u001b[32m----> \u001b[39m\u001b[32m2\u001b[39m \u001b[38;5;28;01mdel\u001b[39;00m \u001b[43mwelcome\u001b[49m\n\u001b[32m      3\u001b[39m welcome()\n",
      "\u001b[31mNameError\u001b[39m: name 'welcome' is not defined"
     ]
    }
   ],
   "source": [
    "# deleting welcome\n",
    "del welcome\n",
    "welcome()"
   ]
  },
  {
   "cell_type": "code",
   "execution_count": 13,
   "id": "2ff16749",
   "metadata": {},
   "outputs": [
    {
     "data": {
      "text/plain": [
       "'Welcome to this advance python course'"
      ]
     },
     "execution_count": 13,
     "metadata": {},
     "output_type": "execute_result"
    }
   ],
   "source": [
    "w() # it made a copy of itself in the variable"
   ]
  },
  {
   "cell_type": "code",
   "execution_count": null,
   "id": "724c35ae",
   "metadata": {},
   "outputs": [],
   "source": [
    "# closures - basically function inside another function\n",
    "\n",
    "def greeting(mssg):\n",
    "\n",
    "    def welcome():\n",
    "        print(\"Welcome to this advance python course\")\n",
    "        print(mssg)\n",
    "        print(\"Please learn all these concepts thoroughly\")\n",
    "    return welcome()    \n"
   ]
  },
  {
   "cell_type": "code",
   "execution_count": 19,
   "id": "86753024",
   "metadata": {},
   "outputs": [
    {
     "name": "stdout",
     "output_type": "stream",
     "text": [
      "Welcome to this advance python course\n",
      "Abhishek\n",
      "Please learn all these concepts thoroughly\n"
     ]
    }
   ],
   "source": [
    "greeting(\"Abhishek\")\n"
   ]
  },
  {
   "cell_type": "code",
   "execution_count": 21,
   "id": "9306dc4a",
   "metadata": {},
   "outputs": [],
   "source": [
    "def greeting(func , lst):\n",
    "\n",
    "    def welcome():\n",
    "        print(\"Welcome to this advance python course\")\n",
    "        print(func(lst))\n",
    "        print(\"Please learn all these concepts thoroughly\")\n",
    "    return welcome()    "
   ]
  },
  {
   "cell_type": "code",
   "execution_count": 24,
   "id": "ab319892",
   "metadata": {},
   "outputs": [
    {
     "name": "stdout",
     "output_type": "stream",
     "text": [
      "Welcome to this advance python course\n",
      "5\n",
      "Please learn all these concepts thoroughly\n"
     ]
    }
   ],
   "source": [
    "greeting(len , \"hello\")"
   ]
  },
  {
   "cell_type": "code",
   "execution_count": 40,
   "id": "633326a6",
   "metadata": {},
   "outputs": [],
   "source": [
    "def mainwelcome(func):\n",
    "    def subwelcome():\n",
    "        print(\"Welcome to this advance python course\")\n",
    "        print(\"Please learn all these concepts thoroughly\")\n",
    "        func()\n",
    "    return subwelcome() "
   ]
  },
  {
   "cell_type": "code",
   "execution_count": 41,
   "id": "0d2b7d9b",
   "metadata": {},
   "outputs": [
    {
     "name": "stdout",
     "output_type": "stream",
     "text": [
      "Welcome to this advance python course\n",
      "Please learn all these concepts thoroughly\n",
      "Remember all the important points\n"
     ]
    }
   ],
   "source": [
    "@mainwelcome\n",
    "def externalwelcome():\n",
    "    print(\"Remember all the important points\")"
   ]
  },
  {
   "cell_type": "markdown",
   "id": "2b02fa4c",
   "metadata": {},
   "source": [
    "The @ syntax is just a shortcut  \n",
    "\n",
    "Instead of writing:  \n",
    "\n",
    "def hello():  \n",
    "    print(\"Hello!\")  \n",
    "\n",
    "hello = mydecorator(hello)   # manually decorating  \n",
    "hello()  \n",
    "\n",
    "\n",
    "We can just write:  \n",
    "\n",
    "@mydecorator  \n",
    "def hello():  \n",
    "    print(\"Hello!\")  \n",
    "  \n",
    "  \n",
    "\n",
    "Now hello is automatically passed as the parameter func into mydecorator."
   ]
  },
  {
   "cell_type": "code",
   "execution_count": 42,
   "id": "a5dd9c53",
   "metadata": {},
   "outputs": [
    {
     "ename": "TypeError",
     "evalue": "'NoneType' object is not callable",
     "output_type": "error",
     "traceback": [
      "\u001b[31m---------------------------------------------------------------------------\u001b[39m",
      "\u001b[31mTypeError\u001b[39m                                 Traceback (most recent call last)",
      "\u001b[36mCell\u001b[39m\u001b[36m \u001b[39m\u001b[32mIn[42]\u001b[39m\u001b[32m, line 1\u001b[39m\n\u001b[32m----> \u001b[39m\u001b[32m1\u001b[39m \u001b[43mexternalwelcome\u001b[49m\u001b[43m(\u001b[49m\u001b[43m)\u001b[49m\n",
      "\u001b[31mTypeError\u001b[39m: 'NoneType' object is not callable"
     ]
    }
   ],
   "source": [
    "externalwelcome()"
   ]
  }
 ],
 "metadata": {
  "kernelspec": {
   "display_name": "Python 3",
   "language": "python",
   "name": "python3"
  },
  "language_info": {
   "codemirror_mode": {
    "name": "ipython",
    "version": 3
   },
   "file_extension": ".py",
   "mimetype": "text/x-python",
   "name": "python",
   "nbconvert_exporter": "python",
   "pygments_lexer": "ipython3",
   "version": "3.12.11"
  }
 },
 "nbformat": 4,
 "nbformat_minor": 5
}
