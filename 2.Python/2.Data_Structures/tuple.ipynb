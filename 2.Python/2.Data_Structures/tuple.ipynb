{
 "cells": [
  {
   "cell_type": "markdown",
   "id": "df9c2503",
   "metadata": {},
   "source": [
    "### Tuples"
   ]
  },
  {
   "cell_type": "code",
   "execution_count": 2,
   "id": "1fca8d14",
   "metadata": {},
   "outputs": [
    {
     "name": "stdout",
     "output_type": "stream",
     "text": [
      "<class 'tuple'>\n"
     ]
    }
   ],
   "source": [
    "#creating a tuple\n",
    "name = ()\n",
    "print(type(name))"
   ]
  },
  {
   "cell_type": "code",
   "execution_count": 3,
   "id": "663c7079",
   "metadata": {},
   "outputs": [
    {
     "name": "stdout",
     "output_type": "stream",
     "text": [
      "<class 'tuple'>\n",
      "<class 'list'>\n"
     ]
    }
   ],
   "source": [
    "#alternate way to create tuple\n",
    "empty_tuple= tuple()\n",
    "print(type(empty_tuple))\n",
    "\n",
    "#alternate way to create a list\n",
    "empty_list=list()\n",
    "print(type(empty_list))"
   ]
  },
  {
   "cell_type": "code",
   "execution_count": 5,
   "id": "6d32eccb",
   "metadata": {},
   "outputs": [
    {
     "name": "stdout",
     "output_type": "stream",
     "text": [
      "(1, 2, 3, 4, 5, 6)\n"
     ]
    }
   ],
   "source": [
    "#converting a list into tuple\n",
    "number = tuple([1,2,3,4,5,6])\n",
    "print(number)"
   ]
  },
  {
   "cell_type": "code",
   "execution_count": null,
   "id": "6101177d",
   "metadata": {},
   "outputs": [
    {
     "name": "stdout",
     "output_type": "stream",
     "text": [
      "1\n"
     ]
    }
   ],
   "source": [
    "#accessing tuple elements\n",
    "print(number[0])\n",
    "# similar indexing as list\n",
    "#similar slicing as list"
   ]
  },
  {
   "cell_type": "code",
   "execution_count": null,
   "id": "ed537e9f",
   "metadata": {},
   "outputs": [
    {
     "name": "stdout",
     "output_type": "stream",
     "text": [
      "(1, 2, 3, 4, 5, 6, 'apple', 'banana')\n",
      "(1, 2, 3, 4, 5, 6, 'apple', 'banana', 1, 2, 3, 4, 5, 6, 'apple', 'banana', 1, 2, 3, 4, 5, 6, 'apple', 'banana', 1, 2, 3, 4, 5, 6, 'apple', 'banana')\n",
      "1\n"
     ]
    }
   ],
   "source": [
    "#tuple operations\n",
    "mixed= (\"apple\",\"banana\")\n",
    "concatenated_tuple= number+mixed\n",
    "print(concatenated_tuple)\n",
    "\n",
    "print(concatenated_tuple*4)\n",
    "print(mixed.count(\"apple\"))"
   ]
  },
  {
   "cell_type": "code",
   "execution_count": null,
   "id": "c1f9680a",
   "metadata": {},
   "outputs": [],
   "source": [
    "#elements inside tuple are immutable it cannot be changed\n",
    "lst1=(1,2,3,4,5,6)\n",
    "\n",
    "# lst1[0]=8# this line will give error\n",
    "\n",
    "# it cannnot be changed you can change the elements by first \n",
    "# converting them into list then again into tuples\n",
    "\n"
   ]
  },
  {
   "cell_type": "code",
   "execution_count": null,
   "id": "959a2d73",
   "metadata": {},
   "outputs": [
    {
     "name": "stdout",
     "output_type": "stream",
     "text": [
      "3\n",
      "4\n",
      "8\n",
      "1\n",
      "71\n"
     ]
    }
   ],
   "source": [
    "#typle methods\n",
    "#any method like insert , append will not work here because it cannot be changed\n",
    "lst1=(1,2,3,4,5,5,4,3,2,1,5,6,7,8,5,2,1,4,3)\n",
    "print(lst1.count(3))\n",
    "print(lst1.index(5))\n",
    "print(max(lst1))\n",
    "print(min(lst1))\n",
    "print(sum(lst1)) \n",
    "#we can also calculate the maximum ,minimum and the sum of a given list\n"
   ]
  },
  {
   "cell_type": "code",
   "execution_count": null,
   "id": "0e972d93",
   "metadata": {},
   "outputs": [
    {
     "name": "stdout",
     "output_type": "stream",
     "text": [
      "('apple', 2, 3, 5, 'hello')\n"
     ]
    }
   ],
   "source": [
    "#packing and unpacking\n",
    "\n",
    "packed_tuple=\"apple\",2,3,5,\"hello\" #by default this will be considered as tuple\n",
    "#this is packing\n",
    "print(packed_tuple)\n"
   ]
  },
  {
   "cell_type": "code",
   "execution_count": null,
   "id": "b020b098",
   "metadata": {},
   "outputs": [
    {
     "name": "stdout",
     "output_type": "stream",
     "text": [
      "apple\n",
      "2\n",
      "3\n",
      "5\n",
      "hello\n"
     ]
    }
   ],
   "source": [
    "#unpacking a tuple\n",
    "#this is when we know how many elements are there in the tuple\n",
    "a,b,c,d,e=packed_tuple\n",
    "print(a)\n",
    "print(b)\n",
    "print(c)\n",
    "print(d)\n",
    "print(e)"
   ]
  },
  {
   "cell_type": "code",
   "execution_count": null,
   "id": "24d29299",
   "metadata": {},
   "outputs": [
    {
     "name": "stdout",
     "output_type": "stream",
     "text": [
      "apple\n",
      "[2, 3, 5]\n",
      "hello\n"
     ]
    }
   ],
   "source": [
    "#unpacking with *\n",
    "a,*b,c=packed_tuple\n",
    "print(a)\n",
    "print(b)\n",
    "print(c)"
   ]
  },
  {
   "cell_type": "code",
   "execution_count": null,
   "id": "8724f7fa",
   "metadata": {},
   "outputs": [
    {
     "name": "stdout",
     "output_type": "stream",
     "text": [
      "6\n"
     ]
    }
   ],
   "source": [
    "#nested list\n",
    "lst=[1,2,3,[4,5,6],7,8,[9,10,[11]]]\n",
    "print(lst[3][2])\n",
    "# simillarly nested tuples can be created\n"
   ]
  }
 ],
 "metadata": {
  "kernelspec": {
   "display_name": "base",
   "language": "python",
   "name": "python3"
  },
  "language_info": {
   "codemirror_mode": {
    "name": "ipython",
    "version": 3
   },
   "file_extension": ".py",
   "mimetype": "text/x-python",
   "name": "python",
   "nbconvert_exporter": "python",
   "pygments_lexer": "ipython3",
   "version": "3.12.7"
  }
 },
 "nbformat": 4,
 "nbformat_minor": 5
}
