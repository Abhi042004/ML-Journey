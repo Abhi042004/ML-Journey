{
 "cells": [
  {
   "cell_type": "markdown",
   "id": "4eb0774b",
   "metadata": {},
   "source": [
    "## Dictionary"
   ]
  },
  {
   "cell_type": "markdown",
   "id": "99c5d292",
   "metadata": {},
   "source": [
    "Dictionary are collections of ordered elements and it stores data in key-value pair. Keys should be unique and immutable"
   ]
  },
  {
   "cell_type": "code",
   "execution_count": null,
   "id": "ddb870c2",
   "metadata": {},
   "outputs": [
    {
     "name": "stdout",
     "output_type": "stream",
     "text": [
      "<class 'dict'>\n"
     ]
    }
   ],
   "source": [
    "#Two ways to create dictionary\n",
    "empty_dict={}\n",
    "print(type(empty_dict))"
   ]
  },
  {
   "cell_type": "code",
   "execution_count": 5,
   "id": "f589c905",
   "metadata": {},
   "outputs": [
    {
     "name": "stdout",
     "output_type": "stream",
     "text": [
      "<class 'dict'>\n"
     ]
    }
   ],
   "source": [
    "empty_dict= dict()\n",
    "print(type(empty_dict))"
   ]
  },
  {
   "cell_type": "code",
   "execution_count": 2,
   "id": "3b5be35f",
   "metadata": {},
   "outputs": [
    {
     "name": "stdout",
     "output_type": "stream",
     "text": [
      "{'name': 'Abhishek', 'age': 18, 'city': 'Bangalore'}\n"
     ]
    }
   ],
   "source": [
    "#key value pairs\n",
    "students = {\"name\":\"Abhishek\", \"age\":18, \"city\":\"Bangalore\"}\n",
    "print(students)"
   ]
  },
  {
   "cell_type": "code",
   "execution_count": 3,
   "id": "a265587f",
   "metadata": {},
   "outputs": [
    {
     "name": "stdout",
     "output_type": "stream",
     "text": [
      "{'name': 'Abhishek', 'age': 18, 'city': 'Delhi'}\n"
     ]
    }
   ],
   "source": [
    "#Error no such error is shown but this is not a good practice you cant create a key again and again\n",
    "person = {\"name\":\"Abhishek\", \"age\":18, \"city\":\"Bangalore\" ,\"city\":\"Delhi\"}\n",
    "print(person)"
   ]
  },
  {
   "cell_type": "code",
   "execution_count": null,
   "id": "2eb480e2",
   "metadata": {},
   "outputs": [
    {
     "name": "stdout",
     "output_type": "stream",
     "text": [
      "Abhishek\n",
      "18\n",
      "Bangalore\n",
      "Abhishek\n",
      "Bangalore\n",
      "None\n",
      "Not available\n"
     ]
    }
   ],
   "source": [
    "#Accessing the dic items\n",
    "print(students[\"name\"])\n",
    "print(students[\"age\"])\n",
    "print(students[\"city\"])\n",
    "\n",
    "#get method\n",
    "print(students.get(\"name\"))\n",
    "print(students.get(\"city\"))\n",
    "print(students.get(\"last_name\")) # here we are getting none as the key is not available in the dictionary\n",
    "print(students.get(\"last_name\",\"Not available\"))# by writing one more parameter it gives us the second message\n"
   ]
  },
  {
   "cell_type": "code",
   "execution_count": 15,
   "id": "eae6e22b",
   "metadata": {},
   "outputs": [
    {
     "name": "stdout",
     "output_type": "stream",
     "text": [
      "{'name': 'Abhishek', 'city': 'Bangalore', 'address': 'India'}\n",
      "{'name': 'Abhishek', 'city': 'Bangalore', 'address': 'India', 'age': 33}\n",
      "{'name': 'Abhishek', 'city': 'Bangalore', 'address': 'India'}\n"
     ]
    }
   ],
   "source": [
    "# Modifying elements in the dictionary\n",
    "# It is mutable you can add update or delete any items in dictionary\n",
    "\n",
    "students[\"address\"]=\"India\"# here we are adding a new key\n",
    "print(students)\n",
    "students[\"age\"]=33 # we are updating a key\n",
    "print(students)\n",
    "\n",
    "#to delete a key we use del keyword\n",
    "del students[\"age\"]\n",
    "print(students)"
   ]
  },
  {
   "cell_type": "code",
   "execution_count": 22,
   "id": "7ffabaed",
   "metadata": {},
   "outputs": [
    {
     "name": "stdout",
     "output_type": "stream",
     "text": [
      "dict_keys(['name', 'city', 'address'])\n",
      "dict_values(['Abhishek', 'Bangalore', 'India'])\n",
      "dict_items([('name', 'Abhishek'), ('city', 'Bangalore'), ('address', 'India')])\n"
     ]
    }
   ],
   "source": [
    "# Dictionary methods\n",
    "#to get all the keys of dictionary\n",
    "key= students.keys()\n",
    "print(key)\n",
    "#to get all the values of dictionary\n",
    "value= students.values()\n",
    "print(value)\n",
    "#to get all the items of dictionary in key value pairs\n",
    "items=students.items()\n",
    "print(items)#it is a list of tuples"
   ]
  },
  {
   "cell_type": "code",
   "execution_count": 25,
   "id": "7c28fe1e",
   "metadata": {},
   "outputs": [
    {
     "name": "stdout",
     "output_type": "stream",
     "text": [
      "{'name': 'Rony', 'city': 'Bangalore', 'address': 'India'}\n",
      "{'name': 'Rony', 'city': 'Bangalore', 'address': 'India'}\n"
     ]
    }
   ],
   "source": [
    "#shallow copy\n",
    "students_copy= students# this will create a copy of students dictionary but there is a problem\n",
    "#if i update a value in students copy it will also be reflected in the original dictionary\n",
    "students_copy[\"name\"]=\"Rony\"\n",
    "print(students)\n",
    "print(students_copy)"
   ]
  },
  {
   "cell_type": "code",
   "execution_count": 27,
   "id": "d31cc229",
   "metadata": {},
   "outputs": [
    {
     "name": "stdout",
     "output_type": "stream",
     "text": [
      "{'name': 'Rony', 'city': 'Bangalore', 'address': 'India'}\n",
      "{'name': 'Berlin', 'city': 'Bangalore', 'address': 'India'}\n"
     ]
    }
   ],
   "source": [
    "# to avoid this we use copy method\n",
    "students_copy=students.copy()# creating a new memory location for the new dict\n",
    "students_copy[\"name\"]=\"Berlin\"\n",
    "print(students)\n",
    "print(students_copy)"
   ]
  },
  {
   "cell_type": "code",
   "execution_count": 32,
   "id": "f15b6248",
   "metadata": {},
   "outputs": [
    {
     "name": "stdout",
     "output_type": "stream",
     "text": [
      "name\n",
      "city\n",
      "address\n"
     ]
    }
   ],
   "source": [
    "#Iterating over a dict\n",
    "#you  can use loops to iterate over keys,values or items\n",
    "\n",
    "#iterating over keys\n",
    "for key in students.keys():\n",
    "    print(key)"
   ]
  },
  {
   "cell_type": "code",
   "execution_count": 33,
   "id": "8f63219a",
   "metadata": {},
   "outputs": [
    {
     "name": "stdout",
     "output_type": "stream",
     "text": [
      "Rony\n",
      "Bangalore\n",
      "India\n"
     ]
    }
   ],
   "source": [
    "#iterating over values\n",
    "for values in students.values():\n",
    "    print(values)"
   ]
  },
  {
   "cell_type": "code",
   "execution_count": 34,
   "id": "5eaf9113",
   "metadata": {},
   "outputs": [
    {
     "name": "stdout",
     "output_type": "stream",
     "text": [
      "('name', 'Rony')\n",
      "('city', 'Bangalore')\n",
      "('address', 'India')\n",
      "name Rony\n",
      "city Bangalore\n",
      "address India\n"
     ]
    }
   ],
   "source": [
    "#iterating over items\n",
    "for items in students.items():\n",
    "    print(items)    \n",
    "for keys,values in students.items():\n",
    "    print(keys,values) "
   ]
  },
  {
   "cell_type": "code",
   "execution_count": 39,
   "id": "1f789acf",
   "metadata": {},
   "outputs": [],
   "source": [
    "#nested dictionaries\n",
    "\n",
    "school={\n",
    "    \"student1\":{\"name\":\"Harsh\",\"age\":18},\n",
    "    \"student2\":{\"name\":\"Rahul\",\"age\":24}\n",
    "}"
   ]
  },
  {
   "cell_type": "code",
   "execution_count": 43,
   "id": "7498ddb2",
   "metadata": {},
   "outputs": [
    {
     "name": "stdout",
     "output_type": "stream",
     "text": [
      "Harsh\n",
      "24\n"
     ]
    }
   ],
   "source": [
    "#Accessing nested dictionaries\n",
    "print(school[\"student1\"][\"name\"])\n",
    "print(school[\"student2\"][\"age\"])"
   ]
  },
  {
   "cell_type": "code",
   "execution_count": 46,
   "id": "deaa50f4",
   "metadata": {},
   "outputs": [
    {
     "name": "stdout",
     "output_type": "stream",
     "text": [
      "student1:{'name': 'Harsh', 'age': 18}\n",
      "name:Harsh\n",
      "age:18\n",
      "student2:{'name': 'Rahul', 'age': 24}\n",
      "name:Rahul\n",
      "age:24\n"
     ]
    }
   ],
   "source": [
    "#iterating nested dictionaries\n",
    "for student_id,student_info in school.items():\n",
    "    print(f\"{student_id}:{student_info}\")\n",
    "    for key,value in student_info.items():\n",
    "        print(f\"{key}:{value}\")"
   ]
  },
  {
   "cell_type": "code",
   "execution_count": 51,
   "id": "7eb9d4a5",
   "metadata": {},
   "outputs": [
    {
     "name": "stdout",
     "output_type": "stream",
     "text": [
      "{0: 0, 1: 1, 2: 4, 3: 9, 4: 16, 5: 25, 6: 36, 7: 49, 8: 64, 9: 81}\n",
      "{0: 0, 2: 4, 4: 16, 6: 36, 8: 64}\n"
     ]
    }
   ],
   "source": [
    "#dictionary comprehension\n",
    "\n",
    "dictionaries={i:i**2 for i in range(10)}\n",
    "print(dictionaries)\n",
    "\n",
    "#calculating squares of even numbers only\n",
    "dictionaries={i:i**2 for i in range(10) if i%2==0}\n",
    "print(dictionaries)"
   ]
  },
  {
   "cell_type": "code",
   "execution_count": 58,
   "id": "187a8a15",
   "metadata": {},
   "outputs": [
    {
     "name": "stdout",
     "output_type": "stream",
     "text": [
      "{1: 2, 2: 2, 3: 1, 4: 1, 5: 2, 6: 1, 7: 1, 15: 1}\n",
      "{1: 2, 2: 2, 3: 1, 4: 1, 5: 2, 6: 1, 7: 1, 15: 1}\n"
     ]
    }
   ],
   "source": [
    "lst=[1,2,3,4,5,6,7,15,1,2,5]\n",
    "dictionaries={i:lst.count(i) for i in lst}\n",
    "print(dictionaries) #this is one way\n",
    "\n",
    "#another way is\n",
    "frequency={}\n",
    "for num in lst:\n",
    "    if num in frequency:\n",
    "        frequency[num]+=1\n",
    "    else:\n",
    "        frequency[num]=1    \n",
    "print(frequency)"
   ]
  },
  {
   "cell_type": "code",
   "execution_count": 59,
   "id": "e6cf0560",
   "metadata": {},
   "outputs": [
    {
     "name": "stdout",
     "output_type": "stream",
     "text": [
      "{1: 'a', 2: 'c', 4: 'd'}\n"
     ]
    }
   ],
   "source": [
    "#merging two dictionaries\n",
    "a={1:'a',2:\"c\"}\n",
    "b={4:'b',4:\"d\"}\n",
    "merged_dict={**a,**b}\n",
    "#these two asterics are keyword arguments and it is used to accept any number of key and value pairs\n",
    "print(merged_dict)"
   ]
  }
 ],
 "metadata": {
  "kernelspec": {
   "display_name": "base",
   "language": "python",
   "name": "python3"
  },
  "language_info": {
   "codemirror_mode": {
    "name": "ipython",
    "version": 3
   },
   "file_extension": ".py",
   "mimetype": "text/x-python",
   "name": "python",
   "nbconvert_exporter": "python",
   "pygments_lexer": "ipython3",
   "version": "3.12.7"
  }
 },
 "nbformat": 4,
 "nbformat_minor": 5
}
