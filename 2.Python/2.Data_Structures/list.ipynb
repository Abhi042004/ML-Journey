{
 "cells": [
  {
   "cell_type": "markdown",
   "id": "c9102dd5",
   "metadata": {},
   "source": [
    "### `List`\n",
    "\n",
    "List are ordered, mutable collections of data  \n",
    "It can contain different datatypes"
   ]
  },
  {
   "cell_type": "code",
   "execution_count": 3,
   "id": "6b532b4a",
   "metadata": {},
   "outputs": [
    {
     "name": "stdout",
     "output_type": "stream",
     "text": [
      "<class 'list'>\n"
     ]
    }
   ],
   "source": [
    "lst = []\n",
    "print(type(lst))"
   ]
  },
  {
   "cell_type": "code",
   "execution_count": null,
   "id": "7cacdbc5",
   "metadata": {},
   "outputs": [
    {
     "name": "stdout",
     "output_type": "stream",
     "text": [
      "['Abhishek', 'Honey', 1, 2, 3, 4]\n"
     ]
    }
   ],
   "source": [
    "#list can contain multiple datatypes\n",
    "name = [\"Abhishek\" , \"Honey\" , 1, 2, 3, 4]\n",
    "print(name) "
   ]
  },
  {
   "cell_type": "code",
   "execution_count": 10,
   "id": "c243636e",
   "metadata": {},
   "outputs": [
    {
     "name": "stdout",
     "output_type": "stream",
     "text": [
      "apple\n",
      "mango\n",
      "mango\n"
     ]
    }
   ],
   "source": [
    "fruits = [\"apple\",\"banana\",\"kiwi\",\"guava\",\"mango\"]\n",
    "print(fruits[0])#indexing\n",
    "print(fruits[4])\n",
    "print(fruits[-1])#negative indexing"
   ]
  },
  {
   "cell_type": "code",
   "execution_count": 18,
   "id": "7488d58d",
   "metadata": {},
   "outputs": [
    {
     "name": "stdout",
     "output_type": "stream",
     "text": [
      "['kiwi', 'guava']\n",
      "['apple', 'banana', 'kiwi']\n",
      "['mango', 'guava', 'kiwi', 'banana', 'apple']\n",
      "['kiwi', 'guava']\n",
      "[]\n"
     ]
    }
   ],
   "source": [
    "#slicing list[start,end,step]\n",
    "print(fruits[2:4]) #end is not included\n",
    "print(fruits[:3])\n",
    "print(fruits[::-1])\n",
    "print(fruits[-3:-1])#this is there\n",
    "print(fruits[-1:-3])#this is not there"
   ]
  },
  {
   "cell_type": "code",
   "execution_count": null,
   "id": "f4dbf8f6",
   "metadata": {},
   "outputs": [
    {
     "name": "stdout",
     "output_type": "stream",
     "text": [
      "['apple', 'pomegranate', 'kiwi', 'guava', 'mango']\n"
     ]
    }
   ],
   "source": [
    "#modifying elements\n",
    "fruits[1]=\"pomegranate\"\n",
    "print(fruits)"
   ]
  },
  {
   "cell_type": "code",
   "execution_count": 25,
   "id": "d90ef596",
   "metadata": {},
   "outputs": [
    {
     "name": "stdout",
     "output_type": "stream",
     "text": [
      "['apple', 'pomegranate', 'watermelon']\n",
      "['apple', 'pomegranate', 'w', 'a', 't', 'e', 'r', 'm', 'e', 'l', 'o', 'n']\n"
     ]
    }
   ],
   "source": [
    "#different way to modify\n",
    "fruits[2:]=[\"watermelon\"] #changed all the elements after 2 - end of the list to watermelon\n",
    "print(fruits)\n",
    "#but if you did it without putting watermelon in the list then\n",
    "fruits[2:]=\"watermelon\"\n",
    "print(fruits)"
   ]
  },
  {
   "cell_type": "code",
   "execution_count": null,
   "id": "c74489c2",
   "metadata": {},
   "outputs": [
    {
     "name": "stdout",
     "output_type": "stream",
     "text": [
      "['apple', 'banana', 'kiwi', 'guava', 'mango', 'orange']\n",
      "['apple', 'banana', 'kiwi', 'watermelon', 'guava', 'mango', 'orange']\n",
      "['banana', 'kiwi', 'watermelon', 'guava', 'mango', 'orange']\n",
      "orange\n",
      "['banana', 'kiwi', 'watermelon', 'guava', 'mango']\n",
      "1\n",
      "2\n"
     ]
    }
   ],
   "source": [
    "#list methods\n",
    "fruits = [\"apple\",\"banana\",\"kiwi\",\"guava\",\"mango\"]\n",
    "\n",
    "fruits.append(\"orange\")#adds element to the end of the list\n",
    "print(fruits)\n",
    "\n",
    "#adding element to a specific index\n",
    "fruits.insert(3,\"watermelon\")\n",
    "print(fruits)\n",
    "\n",
    "#removing any element by name\n",
    "fruits.remove(\"apple\")\n",
    "print(fruits)\n",
    "\n",
    "#removing last element from the list and returns it\n",
    "popped_fruit=fruits.pop()\n",
    "print(popped_fruit)\n",
    "print(fruits)\n",
    "\n",
    "#finding a index of an element using its name\n",
    "pos=fruits.index(\"kiwi\")\n",
    "print(pos)  \n",
    "\n",
    "fruits.insert(3,\"banana\")\n",
    "#counting number of elements in the list\n",
    "print(fruits.count(\"banana\"))\n"
   ]
  },
  {
   "cell_type": "code",
   "execution_count": 20,
   "id": "ccce5059",
   "metadata": {},
   "outputs": [
    {
     "name": "stdout",
     "output_type": "stream",
     "text": [
      "['banana', 'banana', 'guava', 'kiwi', 'mango', 'watermelon']\n",
      "['watermelon', 'mango', 'kiwi', 'guava', 'banana', 'banana']\n"
     ]
    }
   ],
   "source": [
    "# a sorted list\n",
    "fruits.sort()\n",
    "print(fruits)\n",
    "\n",
    "# reversing a list\n",
    "fruits.reverse()\n",
    "print(fruits)\n"
   ]
  },
  {
   "cell_type": "code",
   "execution_count": 22,
   "id": "b367ba8c",
   "metadata": {},
   "outputs": [
    {
     "name": "stdout",
     "output_type": "stream",
     "text": [
      "[]\n"
     ]
    }
   ],
   "source": [
    "# emptying a list\n",
    "fruits.clear()\n",
    "print(fruits)"
   ]
  },
  {
   "cell_type": "code",
   "execution_count": 24,
   "id": "8ecf2341",
   "metadata": {},
   "outputs": [
    {
     "name": "stdout",
     "output_type": "stream",
     "text": [
      "1\n",
      "2\n",
      "3\n",
      "4\n",
      "5\n",
      "6\n",
      "7\n",
      "8\n"
     ]
    }
   ],
   "source": [
    "#iterating over a list\n",
    "num = [1,2,3,4,5,6,7,8]\n",
    "for i in num:\n",
    "    print(i)"
   ]
  },
  {
   "cell_type": "code",
   "execution_count": 26,
   "id": "67b95afa",
   "metadata": {},
   "outputs": [
    {
     "name": "stdout",
     "output_type": "stream",
     "text": [
      "0 1\n",
      "1 2\n",
      "2 3\n",
      "3 4\n",
      "4 5\n",
      "5 6\n",
      "6 7\n",
      "7 8\n"
     ]
    }
   ],
   "source": [
    "#iterating with index\n",
    "for i , j in enumerate(num):\n",
    "    print(i,j)"
   ]
  },
  {
   "cell_type": "code",
   "execution_count": null,
   "id": "78f6daaa",
   "metadata": {},
   "outputs": [
    {
     "name": "stdout",
     "output_type": "stream",
     "text": [
      "[0, 1, 4, 9, 16, 25, 36, 49, 64, 81]\n",
      "[0, 2, 4, 6, 8]\n"
     ]
    }
   ],
   "source": [
    "#list comprehension\n",
    "lst = []\n",
    "for i in range(10):\n",
    "    lst.append(i**2)\n",
    "print(lst)        \n",
    "\n",
    "#instead of writing so many lines we can write this in a single line\n",
    "#[what you want as output   iteration    any conditions ]\n",
    "[i**2 for i in range(10)]\n",
    "\n",
    "#finding even numbers\n",
    "even_numbers=[i for i in range(10) if i%2==0]\n",
    "print(even_numbers)"
   ]
  },
  {
   "cell_type": "code",
   "execution_count": null,
   "id": "9f0e6c68",
   "metadata": {},
   "outputs": [
    {
     "data": {
      "text/plain": [
       "[(1, 'a'), (1, 'b'), (1, 'c'), (2, 'a'), (2, 'b'), (2, 'c')]"
      ]
     },
     "execution_count": 39,
     "metadata": {},
     "output_type": "execute_result"
    }
   ],
   "source": [
    "#nested list comprehension\n",
    "lst1=[1,2]\n",
    "lst2=[\"a\",\"b\",\"c\"]\n",
    "\n",
    "[[i,j] for i in lst1 for j in lst2]"
   ]
  },
  {
   "cell_type": "code",
   "execution_count": 48,
   "id": "af7905ea",
   "metadata": {},
   "outputs": [
    {
     "name": "stdout",
     "output_type": "stream",
     "text": [
      "5\n",
      "[5, 6, 4, 5, 5]\n"
     ]
    }
   ],
   "source": [
    "basket=\"apple\"\n",
    "print(len(basket)) #used to calculate the length of apple\n",
    "\n",
    "#application\n",
    "fruits = [\"apple\",\"banana\",\"kiwi\",\"guava\",\"mango\"]\n",
    "length = [len(i) for i in fruits]\n",
    "print(length)\n"
   ]
  }
 ],
 "metadata": {
  "kernelspec": {
   "display_name": "base",
   "language": "python",
   "name": "python3"
  },
  "language_info": {
   "codemirror_mode": {
    "name": "ipython",
    "version": 3
   },
   "file_extension": ".py",
   "mimetype": "text/x-python",
   "name": "python",
   "nbconvert_exporter": "python",
   "pygments_lexer": "ipython3",
   "version": "3.12.7"
  }
 },
 "nbformat": 4,
 "nbformat_minor": 5
}
