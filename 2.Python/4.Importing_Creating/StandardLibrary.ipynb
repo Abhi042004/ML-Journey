{
 "cells": [
  {
   "cell_type": "code",
   "execution_count": 3,
   "id": "29ba9bc6",
   "metadata": {},
   "outputs": [
    {
     "name": "stdout",
     "output_type": "stream",
     "text": [
      "8\n",
      "apple\n"
     ]
    }
   ],
   "source": [
    "# random\n",
    "import random\n",
    "print(random.randint(1,10))\n",
    "print(random.choice([\"apple\",\"banana\",\"cherry\"]))"
   ]
  },
  {
   "cell_type": "code",
   "execution_count": 4,
   "id": "0b7a11c3",
   "metadata": {},
   "outputs": [
    {
     "data": {
      "text/plain": [
       "'d:\\\\Programming\\\\ML\\\\MyNotebook\\\\2.Python\\\\4.Importing_Creating'"
      ]
     },
     "execution_count": 4,
     "metadata": {},
     "output_type": "execute_result"
    }
   ],
   "source": [
    "import os\n",
    "os.getcwd()"
   ]
  },
  {
   "cell_type": "code",
   "execution_count": 5,
   "id": "72d19d71",
   "metadata": {},
   "outputs": [],
   "source": [
    "os.mkdir(\"new\")"
   ]
  },
  {
   "cell_type": "code",
   "execution_count": 7,
   "id": "4bcd1371",
   "metadata": {},
   "outputs": [
    {
     "data": {
      "text/plain": [
       "'destination.txt'"
      ]
     },
     "execution_count": 7,
     "metadata": {},
     "output_type": "execute_result"
    }
   ],
   "source": [
    "# high level of operations on file and collection of files\n",
    "import shutil\n",
    "shutil.copyfile(\"hello.txt\",\"destination.txt\")"
   ]
  },
  {
   "cell_type": "code",
   "execution_count": 13,
   "id": "1df88dbc",
   "metadata": {},
   "outputs": [
    {
     "name": "stdout",
     "output_type": "stream",
     "text": [
      "{\"name\": \"Abhi\", \"address\": \"Arihant Ambience\"}\n",
      "<class 'str'>\n",
      "{'name': 'Abhi', 'address': 'Arihant Ambience'}\n",
      "<class 'dict'>\n"
     ]
    }
   ],
   "source": [
    "# json - when we use an api and get some data it is in the form of json so\n",
    "#  we need to convert it into string\n",
    "\n",
    "import json\n",
    "\n",
    "data = {\n",
    "    \"name\":\"Abhi\",\"address\":\"Arihant Ambience\"\n",
    "}\n",
    "json_str= json.dumps(data)\n",
    "print(json_str)\n",
    "print(type(json_str))\n",
    "\n",
    "# if we needed to convert it back into the json format then\n",
    "parsed_data= json.loads(json_str)\n",
    "print(parsed_data)\n",
    "print(type(parsed_data))\n"
   ]
  }
 ],
 "metadata": {
  "kernelspec": {
   "display_name": "base",
   "language": "python",
   "name": "python3"
  },
  "language_info": {
   "codemirror_mode": {
    "name": "ipython",
    "version": 3
   },
   "file_extension": ".py",
   "mimetype": "text/x-python",
   "name": "python",
   "nbconvert_exporter": "python",
   "pygments_lexer": "ipython3",
   "version": "3.12.7"
  }
 },
 "nbformat": 4,
 "nbformat_minor": 5
}
