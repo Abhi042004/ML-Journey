{
 "cells": [
  {
   "cell_type": "markdown",
   "id": "d9de4627",
   "metadata": {},
   "source": [
    "### Exceptional Handling\n"
   ]
  },
  {
   "cell_type": "markdown",
   "id": "74e60934",
   "metadata": {},
   "source": [
    "Exceptions are errors that disrupts normal flow of the program.  \n",
    "ex- ZeroDivisionError  \n",
    "    NameError  \n",
    "    FileNotFoundError  "
   ]
  },
  {
   "cell_type": "code",
   "execution_count": 1,
   "id": "6b4e326a",
   "metadata": {},
   "outputs": [
    {
     "ename": "NameError",
     "evalue": "name 'b' is not defined",
     "output_type": "error",
     "traceback": [
      "\u001b[1;31m---------------------------------------------------------------------------\u001b[0m",
      "\u001b[1;31mNameError\u001b[0m                                 Traceback (most recent call last)",
      "Cell \u001b[1;32mIn[1], line 1\u001b[0m\n\u001b[1;32m----> 1\u001b[0m a \u001b[38;5;241m=\u001b[39m b\n",
      "\u001b[1;31mNameError\u001b[0m: name 'b' is not defined"
     ]
    }
   ],
   "source": [
    "a = b"
   ]
  },
  {
   "cell_type": "code",
   "execution_count": 2,
   "id": "de1cab2d",
   "metadata": {},
   "outputs": [
    {
     "name": "stdout",
     "output_type": "stream",
     "text": [
      "Your variable has not been defined.\n"
     ]
    }
   ],
   "source": [
    "try:\n",
    "    a = b\n",
    "except:\n",
    "    print(\"Your variable has not been defined.\")    "
   ]
  },
  {
   "cell_type": "code",
   "execution_count": 4,
   "id": "3b8593ef",
   "metadata": {},
   "outputs": [
    {
     "name": "stdout",
     "output_type": "stream",
     "text": [
      "name 'b' is not defined\n"
     ]
    }
   ],
   "source": [
    "try:\n",
    "    a = b\n",
    "except NameError as ex:\n",
    "    print(ex)\n"
   ]
  },
  {
   "cell_type": "code",
   "execution_count": null,
   "id": "32457c66",
   "metadata": {},
   "outputs": [
    {
     "name": "stdout",
     "output_type": "stream",
     "text": [
      "Your cant divide a number by Zero\n"
     ]
    }
   ],
   "source": [
    "try:\n",
    "    var = int(input(\"Enter a number:\"))\n",
    "    result = 10/var\n",
    "except ZeroDivisionError:\n",
    "    print(\"Your cant divide a number by Zero\")\n",
    "except ValueError as ex:\n",
    "    print(\"You have not entered an integer\")\n",
    "except Exception:\n",
    "    print(\"Please recheck what you entered\")    \n",
    "else:\n",
    "    print(\"Your code was executed successfully\")\n",
    "finally:\n",
    "    print(\"Execution Completed\")                "
   ]
  },
  {
   "cell_type": "code",
   "execution_count": null,
   "id": "94efb89c",
   "metadata": {},
   "outputs": [],
   "source": []
  }
 ],
 "metadata": {
  "kernelspec": {
   "display_name": "base",
   "language": "python",
   "name": "python3"
  },
  "language_info": {
   "codemirror_mode": {
    "name": "ipython",
    "version": 3
   },
   "file_extension": ".py",
   "mimetype": "text/x-python",
   "name": "python",
   "nbconvert_exporter": "python",
   "pygments_lexer": "ipython3",
   "version": "3.12.7"
  }
 },
 "nbformat": 4,
 "nbformat_minor": 5
}
