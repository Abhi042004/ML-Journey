{
 "cells": [
  {
   "cell_type": "markdown",
   "id": "46d75aab",
   "metadata": {},
   "source": [
    "### `Getting started with functions`"
   ]
  },
  {
   "cell_type": "markdown",
   "id": "adcd163d",
   "metadata": {},
   "source": [
    "Function is a block of code which is used to perform a specific task."
   ]
  },
  {
   "cell_type": "code",
   "execution_count": 1,
   "id": "63de613b",
   "metadata": {},
   "outputs": [],
   "source": [
    "#syntax of function\n",
    "\n",
    "expression=True\n",
    "\n",
    "def sum(parameters):\n",
    "    \"\"\"Docstring it tells what a specific function does\"\"\"\n",
    "    return expression"
   ]
  },
  {
   "cell_type": "code",
   "execution_count": null,
   "id": "01a21f91",
   "metadata": {},
   "outputs": [],
   "source": [
    "# Odd/Even function\n",
    "\n",
    "def odd_even(num):\n",
    "    \"\"\"This function find even or odd number\"\"\"\n",
    "    if num%2==0:\n",
    "        print(\"Number is even\")\n",
    "    else:\n",
    "        print(\"Number is odd\")"
   ]
  },
  {
   "cell_type": "code",
   "execution_count": 6,
   "id": "465b4ebc",
   "metadata": {},
   "outputs": [
    {
     "name": "stdout",
     "output_type": "stream",
     "text": [
      "Number is odd\n",
      "Number is odd\n"
     ]
    }
   ],
   "source": [
    "#Calling this function\n",
    "odd_even(57)\n",
    "odd_even(45)"
   ]
  },
  {
   "cell_type": "code",
   "execution_count": 7,
   "id": "a144f23d",
   "metadata": {},
   "outputs": [],
   "source": [
    "#function to add two numbers\n",
    "def add(a,b):\n",
    "    c=a+b\n",
    "    return c"
   ]
  },
  {
   "cell_type": "code",
   "execution_count": 9,
   "id": "77c3af65",
   "metadata": {},
   "outputs": [
    {
     "data": {
      "text/plain": [
       "7"
      ]
     },
     "execution_count": 9,
     "metadata": {},
     "output_type": "execute_result"
    }
   ],
   "source": [
    "add(3,4)"
   ]
  },
  {
   "cell_type": "code",
   "execution_count": 15,
   "id": "f61e3183",
   "metadata": {},
   "outputs": [
    {
     "name": "stdout",
     "output_type": "stream",
     "text": [
      "Hello Rajeev, welcome to the paradise\n"
     ]
    }
   ],
   "source": [
    "#default parameters\n",
    "def welcome(name=\"Unkown\"):\n",
    "    print(f\"Hello {name}, welcome to the paradise\" )\n",
    "\n",
    "welcome(\"Rajeev\")"
   ]
  },
  {
   "cell_type": "code",
   "execution_count": 2,
   "id": "9d1953eb",
   "metadata": {},
   "outputs": [
    {
     "name": "stdout",
     "output_type": "stream",
     "text": [
      "1\n",
      "2\n",
      "3\n",
      "4\n",
      "5\n",
      "6\n",
      "7\n",
      "Hello\n"
     ]
    }
   ],
   "source": [
    "#Variable length arguments\n",
    "#Positional and keyword arguments\n",
    "\n",
    "def printing(*args): # args is used it is standardized through the world\n",
    "    for num in args:\n",
    "        print(num)\n",
    "\n",
    "printing(1,2,3,4,5,6,7,\"Hello\")# these are called positional arguments"
   ]
  },
  {
   "cell_type": "code",
   "execution_count": 7,
   "id": "b20c928d",
   "metadata": {},
   "outputs": [],
   "source": [
    "#keyword arguments is in key-value pairs which we can access like we access dictionary\n",
    "\n",
    "def print_details(*args,**kwargs):\n",
    "\n",
    "    for i in args:\n",
    "        print(i)\n",
    "\n",
    "    for item,value in kwargs.items():\n",
    "        print(f\"{item}:{value}\")\n"
   ]
  },
  {
   "cell_type": "code",
   "execution_count": 8,
   "id": "58da581d",
   "metadata": {},
   "outputs": [
    {
     "name": "stdout",
     "output_type": "stream",
     "text": [
      "3\n",
      "45\n",
      "6\n",
      "4\n",
      "3\n",
      "2\n",
      "name:Abhishek\n",
      "city:Bangalore\n",
      "age:19\n"
     ]
    }
   ],
   "source": [
    "print_details(3,45,6,4,3,2,name=\"Abhishek\",city=\"Bangalore\",age=19)"
   ]
  }
 ],
 "metadata": {
  "kernelspec": {
   "display_name": "base",
   "language": "python",
   "name": "python3"
  },
  "language_info": {
   "codemirror_mode": {
    "name": "ipython",
    "version": 3
   },
   "file_extension": ".py",
   "mimetype": "text/x-python",
   "name": "python",
   "nbconvert_exporter": "python",
   "pygments_lexer": "ipython3",
   "version": "3.12.7"
  }
 },
 "nbformat": 4,
 "nbformat_minor": 5
}
