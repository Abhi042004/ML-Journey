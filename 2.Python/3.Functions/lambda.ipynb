{
 "cells": [
  {
   "cell_type": "markdown",
   "id": "93f37848",
   "metadata": {},
   "source": [
    "### Lambda functions"
   ]
  },
  {
   "cell_type": "code",
   "execution_count": 2,
   "id": "703cfb74",
   "metadata": {},
   "outputs": [
    {
     "data": {
      "text/plain": [
       "5"
      ]
     },
     "execution_count": 2,
     "metadata": {},
     "output_type": "execute_result"
    }
   ],
   "source": [
    "# Syntax   lambda argument: expression\n",
    "def add (a,b):\n",
    "    return a+b\n",
    "\n",
    "add1=lambda a,b:a+b\n",
    "add1(2,3)"
   ]
  },
  {
   "cell_type": "code",
   "execution_count": 4,
   "id": "0f735613",
   "metadata": {},
   "outputs": [
    {
     "data": {
      "text/plain": [
       "True"
      ]
     },
     "execution_count": 4,
     "metadata": {},
     "output_type": "execute_result"
    }
   ],
   "source": [
    "evenOdd=lambda a: a%2==0\n",
    "evenOdd(10)"
   ]
  },
  {
   "cell_type": "markdown",
   "id": "1c51e6f3",
   "metadata": {},
   "source": [
    "### Map Function"
   ]
  },
  {
   "cell_type": "code",
   "execution_count": 21,
   "id": "df2f3b96",
   "metadata": {},
   "outputs": [],
   "source": [
    "num=[1,2,3,4,5,6]\n",
    "\n",
    "def square(a):\n",
    "    return a*a"
   ]
  },
  {
   "cell_type": "code",
   "execution_count": 23,
   "id": "d1205984",
   "metadata": {},
   "outputs": [
    {
     "data": {
      "text/plain": [
       "[1, 4, 9, 16, 25, 36]"
      ]
     },
     "execution_count": 23,
     "metadata": {},
     "output_type": "execute_result"
    }
   ],
   "source": [
    "# map - if you want to apply a particular function to all the element of the list\n",
    "list(map(square,num)) # map returns memory location so thats why we have to \n",
    "                      # convert it into list"
   ]
  },
  {
   "cell_type": "code",
   "execution_count": 24,
   "id": "0410c53c",
   "metadata": {},
   "outputs": [
    {
     "data": {
      "text/plain": [
       "[101, 102, 103, 104, 105, 106]"
      ]
     },
     "execution_count": 24,
     "metadata": {},
     "output_type": "execute_result"
    }
   ],
   "source": [
    "#map with lambda function\n",
    "list(map(lambda x: x+100,num))"
   ]
  },
  {
   "cell_type": "code",
   "execution_count": 28,
   "id": "bee191b6",
   "metadata": {},
   "outputs": [
    {
     "name": "stdout",
     "output_type": "stream",
     "text": [
      "[5, 7, 9]\n"
     ]
    }
   ],
   "source": [
    "#adding two list\n",
    "a=[1,2,3]\n",
    "b=[4,5,6]\n",
    "\n",
    "result=list(map(lambda a,b:a+b, a,b))\n",
    "print(result)"
   ]
  },
  {
   "cell_type": "code",
   "execution_count": 31,
   "id": "9b2f3ac2",
   "metadata": {},
   "outputs": [
    {
     "data": {
      "text/plain": [
       "['Apple', 'Banana', 'Cherry']"
      ]
     },
     "execution_count": 31,
     "metadata": {},
     "output_type": "execute_result"
    }
   ],
   "source": [
    "# making the first letter uppercase\n",
    "fruits = [\"apple\",\"banana\",\"cherry\"]\n",
    "list(map(lambda a : a.capitalize(),fruits))"
   ]
  },
  {
   "cell_type": "code",
   "execution_count": 36,
   "id": "58a2996d",
   "metadata": {},
   "outputs": [
    {
     "data": {
      "text/plain": [
       "['Rahul', 'Abhishek']"
      ]
     },
     "execution_count": 36,
     "metadata": {},
     "output_type": "execute_result"
    }
   ],
   "source": [
    "# Dictionary\n",
    "def get_name(x):\n",
    "    return x[\"name\"]\n",
    "\n",
    "people = [\n",
    "    {\"name\":\"Rahul\", \"address\":\"Bangalore\"},\n",
    "    {\"name\":\"Abhishek\" , \"address\":\"delhi\"}]\n",
    "\n",
    "list(map(get_name,people))"
   ]
  },
  {
   "cell_type": "markdown",
   "id": "c9c161d2",
   "metadata": {},
   "source": [
    "### Filter function"
   ]
  },
  {
   "cell_type": "code",
   "execution_count": 38,
   "id": "724b1667",
   "metadata": {},
   "outputs": [
    {
     "data": {
      "text/plain": [
       "[2, 4, 6, 8, 10]"
      ]
     },
     "execution_count": 38,
     "metadata": {},
     "output_type": "execute_result"
    }
   ],
   "source": [
    "# filter is used to filter a list based on a condition\n",
    "\n",
    "def evenOdd(x):\n",
    "    return x%2==0\n",
    "\n",
    "even = [1,2,3,4,5,6,7,8,9,10]\n",
    "list(filter(evenOdd,even))\n",
    "# it will return a list will only even numbers"
   ]
  },
  {
   "cell_type": "code",
   "execution_count": 40,
   "id": "e5c819d7",
   "metadata": {},
   "outputs": [
    {
     "name": "stdout",
     "output_type": "stream",
     "text": [
      "[6, 7, 8, 9, 10]\n"
     ]
    }
   ],
   "source": [
    "greater_than_five= list(filter(lambda a: a>5,even))\n",
    "print(greater_than_five)"
   ]
  }
 ],
 "metadata": {
  "kernelspec": {
   "display_name": "base",
   "language": "python",
   "name": "python3"
  },
  "language_info": {
   "codemirror_mode": {
    "name": "ipython",
    "version": 3
   },
   "file_extension": ".py",
   "mimetype": "text/x-python",
   "name": "python",
   "nbconvert_exporter": "python",
   "pygments_lexer": "ipython3",
   "version": "3.12.7"
  }
 },
 "nbformat": 4,
 "nbformat_minor": 5
}
