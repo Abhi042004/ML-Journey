{
 "cells": [
  {
   "cell_type": "markdown",
   "id": "ddcfc0a7",
   "metadata": {},
   "source": [
    "# Function Examples"
   ]
  },
  {
   "cell_type": "markdown",
   "id": "c3df2844",
   "metadata": {},
   "source": [
    "### Example-1 Temperature Conversion"
   ]
  },
  {
   "cell_type": "code",
   "execution_count": 1,
   "id": "6a0fc6ef",
   "metadata": {},
   "outputs": [],
   "source": [
    "def temperature_converter(temp,unit):\n",
    "    \n",
    "    if unit==\"f\":\n",
    "        return (temp-32)*(5/9)\n",
    "    elif unit==\"c\":\n",
    "        return temp*(9/5)+32\n",
    "    else:\n",
    "        return \"Please enter a valid unit!!\"  "
   ]
  },
  {
   "cell_type": "code",
   "execution_count": 9,
   "id": "734ebf25",
   "metadata": {},
   "outputs": [
    {
     "name": "stdout",
     "output_type": "stream",
     "text": [
      "33.8\n",
      "40.0\n"
     ]
    }
   ],
   "source": [
    "print(temperature_converter(1,\"c\"))\n",
    "print(temperature_converter(104,\"f\"))"
   ]
  },
  {
   "cell_type": "markdown",
   "id": "22fe46e0",
   "metadata": {},
   "source": [
    "### Example 2- Password Checker"
   ]
  },
  {
   "cell_type": "code",
   "execution_count": 1,
   "id": "d78706cc",
   "metadata": {},
   "outputs": [
    {
     "name": "stdout",
     "output_type": "stream",
     "text": [
      "class generator \n"
     ]
    }
   ],
   "source": [
    "def password_checker(password):\n",
    "    \"\"\"This function verifies if a password is strong or weak\"\"\"\n",
    "    if len(password)<8:\n",
    "        print(\"It is a weak password\")\n",
    "    else:\n",
    "        print(\"Your password is not too strong!\") \n",
    "\n",
    "    print(\"passw0rd is poor people are laughing\")  \n",
    "    print(\"Make the passw0rd more stronger by\")\n",
    "\n",
    "#temperature generator \n",
    "print ( \"class generator \") \n",
    "\n",
    "\n",
    "\n",
    "\n"
   ]
  },
  {
   "cell_type": "code",
   "execution_count": null,
   "id": "8d1d2f5c",
   "metadata": {},
   "outputs": [
    {
     "data": {
      "text/plain": [
       "113.0"
      ]
     },
     "execution_count": 2,
     "metadata": {},
     "output_type": "execute_result"
    }
   ],
   "source": [
    "#convert tem p\n",
    "\n",
    "def convert_temp(temp,unit):\n",
    "    if unit==\"c\":\n",
    "        return temp * 9/5 +32\n",
    "    elif unit==\"f\":\n",
    "        return temp -32 * 5/9\n",
    "    else:\n",
    "        return \"Enter a valid unit c or f\"  \n",
    "convert_temp(45,\"c\")"
   ]
  }
 ],
 "metadata": {
  "kernelspec": {
   "display_name": "base",
   "language": "python",
   "name": "python3"
  },
  "language_info": {
   "codemirror_mode": {
    "name": "ipython",
    "version": 3
   },
   "file_extension": ".py",
   "mimetype": "text/x-python",
   "name": "python",
   "nbconvert_exporter": "python",
   "pygments_lexer": "ipython3",
   "version": "3.12.7"
  }
 },
 "nbformat": 4,
 "nbformat_minor": 5
}
