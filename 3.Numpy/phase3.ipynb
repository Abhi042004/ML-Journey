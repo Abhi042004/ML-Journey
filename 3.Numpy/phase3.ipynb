{
 "cells": [
  {
   "cell_type": "markdown",
   "id": "fb31baea",
   "metadata": {},
   "source": [
    "### Advance Operations with Business Example"
   ]
  },
  {
   "cell_type": "code",
   "execution_count": null,
   "id": "0ca01d48",
   "metadata": {},
   "outputs": [],
   "source": [
    "import numpy as np"
   ]
  },
  {
   "cell_type": "code",
   "execution_count": 3,
   "id": "076e3f6f",
   "metadata": {},
   "outputs": [],
   "source": [
    "# Data structure: [restaurant_id, 2021, 2022, 2023, 2024]\n",
    "sales_data = np.array([\n",
    "    [1, 150000, 180000, 220000, 250000],  # Paradise Biryani\n",
    "    [2, 120000, 140000, 160000, 190000],  # Beijing Bites\n",
    "    [3, 200000, 230000, 260000, 300000],  # Pizza Hub\n",
    "    [4, 180000, 210000, 240000, 270000],  # Burger Point\n",
    "    [5, 160000, 185000, 205000, 230000]   # Chai Point\n",
    "])"
   ]
  },
  {
   "cell_type": "code",
   "execution_count": 8,
   "id": "e5283794",
   "metadata": {},
   "outputs": [
    {
     "name": "stdout",
     "output_type": "stream",
     "text": [
      "=== Zomato Sales Analysis ===\n",
      "Shape of the data is (5, 5)\n",
      "Sample data for the 1st three resturant\n",
      " [[150000 180000 220000 250000]\n",
      " [120000 140000 160000 190000]\n",
      " [200000 230000 260000 300000]\n",
      " [180000 210000 240000 270000]\n",
      " [160000 185000 205000 230000]]\n"
     ]
    }
   ],
   "source": [
    "print(\"=== Zomato Sales Analysis ===\")\n",
    "print(\"Shape of the data is\",sales_data.shape)\n",
    "print(\"Sample data for the 1st three resturant\\n\",sales_data[:, 1:])"
   ]
  },
  {
   "cell_type": "code",
   "execution_count": 10,
   "id": "ea41f8dd",
   "metadata": {},
   "outputs": [
    {
     "name": "stdout",
     "output_type": "stream",
     "text": [
      "Sales per year:\n",
      "  [     15  810000  945000 1085000 1240000]\n",
      "Yearly Total\n",
      " 4080000\n",
      "Paradise Biryani:\n",
      " 800000\n"
     ]
    }
   ],
   "source": [
    "# Total Sales Per Year\n",
    "print(\"Sales per year:\\n \" , np.sum(sales_data, axis=0))\n",
    "# Yearly Total\n",
    "yearly_total = np.sum(sales_data[: , 1:], axis=1)\n",
    "print(\"Yearly Total\\n\",np.sum(yearly_total))\n",
    "print(\"Paradise Biryani:\\n\", np.sum(sales_data[0, 1:]))"
   ]
  },
  {
   "cell_type": "code",
   "execution_count": null,
   "id": "54d4c5f5",
   "metadata": {},
   "outputs": [
    {
     "name": "stdout",
     "output_type": "stream",
     "text": [
      "[150000 120000 200000 180000 160000]\n",
      "[200000 230000 260000 300000]\n",
      "[200000. 152500. 247500. 225000. 195000.]\n",
      "[[150000 330000 550000 800000]\n",
      " [120000 260000 420000 610000]\n",
      " [200000 430000 690000 990000]\n",
      " [180000 390000 630000 900000]\n",
      " [160000 345000 550000 780000]]\n"
     ]
    }
   ],
   "source": [
    "# Minimum sales per restaurant\n",
    "min = np.min(sales_data[: , 1:], axis=1)\n",
    "print(min)\n",
    "# Maximum sales per year\n",
    "max = np.max(sales_data[: , 1:], axis=0)\n",
    "print(max)\n",
    "# Average sales per restaurant\n",
    "mean = np.mean(sales_data[: , 1:] , axis= 1)\n",
    "print(mean)\n",
    "# Cumulative sales - adding previous values to coming one\n",
    "cumsum = np.cumsum(sales_data[: ,1:], axis=1)\n",
    "print(cumsum)"
   ]
  },
  {
   "cell_type": "code",
   "execution_count": null,
   "id": "540d7439",
   "metadata": {},
   "outputs": [
    {
     "name": "stdout",
     "output_type": "stream",
     "text": [
      "[5 7 9]\n",
      "32\n",
      "[ 4 10 18]\n",
      "Angle 0.2257261285527342\n"
     ]
    }
   ],
   "source": [
    "# Dot product\n",
    "vector1 = np.array([1,2,3])\n",
    "vector2 = np.array([4,5,6])\n",
    "print(vector1 + vector2)\n",
    "print(np.dot(vector1,vector2))\n",
    "print(vector1*vector2)\n",
    "\n",
    "print(\"Angle\", np.arccos(np.dot(vector1,vector2)/(np.linalg.norm(vector1)*np.linalg.norm(vector2))))"
   ]
  },
  {
   "cell_type": "code",
   "execution_count": null,
   "id": "82b47275",
   "metadata": {},
   "outputs": [
    {
     "name": "stdout",
     "output_type": "stream",
     "text": [
      "['CHOWMIEN' 'BURGER' 'PIZZA']\n"
     ]
    }
   ],
   "source": [
    "# Vectorize Methods\n",
    "food = np.array([\"Chowmien\", \"Burger\" , \"Pizza\"])\n",
    "vectorize = np.vectorize(str.upper)\n",
    "print(vectorize(food))\n",
    "\n",
    "# if you multiply, add, divide a vector with a scalar then \n",
    "# it get applies to all element in the vector"
   ]
  }
 ],
 "metadata": {
  "kernelspec": {
   "display_name": "Python 3",
   "language": "python",
   "name": "python3"
  },
  "language_info": {
   "codemirror_mode": {
    "name": "ipython",
    "version": 3
   },
   "file_extension": ".py",
   "mimetype": "text/x-python",
   "name": "python",
   "nbconvert_exporter": "python",
   "pygments_lexer": "ipython3",
   "version": "3.11.13"
  }
 },
 "nbformat": 4,
 "nbformat_minor": 5
}
