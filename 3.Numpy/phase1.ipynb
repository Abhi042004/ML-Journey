{
 "cells": [
  {
   "cell_type": "markdown",
   "id": "caa604cf",
   "metadata": {},
   "source": [
    "### `Numpy` tutorial with Chai and Code"
   ]
  },
  {
   "cell_type": "code",
   "execution_count": 2,
   "id": "f0a8d189",
   "metadata": {},
   "outputs": [],
   "source": [
    "import numpy as np"
   ]
  },
  {
   "cell_type": "markdown",
   "id": "5bfad1d2",
   "metadata": {},
   "source": [
    "### Creating array from list"
   ]
  },
  {
   "cell_type": "code",
   "execution_count": 3,
   "id": "dec13bee",
   "metadata": {},
   "outputs": [
    {
     "name": "stdout",
     "output_type": "stream",
     "text": [
      "[1 2 3 4 5]\n",
      "[[1 2 3]\n",
      " [4 5 6]]\n"
     ]
    }
   ],
   "source": [
    "arr_1D = np.array([1,2,3,4,5])\n",
    "print(arr_1D)\n",
    "\n",
    "arr_2D = np.array([[1,2,3],[4,5,6]])\n",
    "print(arr_2D)"
   ]
  },
  {
   "cell_type": "markdown",
   "id": "1a3e4d43",
   "metadata": {},
   "source": [
    "### Nump Array vs List"
   ]
  },
  {
   "cell_type": "code",
   "execution_count": 4,
   "id": "ea2d9118",
   "metadata": {},
   "outputs": [
    {
     "name": "stdout",
     "output_type": "stream",
     "text": [
      "[1, 2, 3, 1, 2, 3]\n",
      "[2 4 6]\n"
     ]
    }
   ],
   "source": [
    "py_list = [1,2,3]\n",
    "print(py_list*2) # list gets doubled\n",
    "\n",
    "np_arr = np.array([1,2,3])\n",
    "print(np_arr*2) # Each element gets multiplied with 2\n",
    "\n",
    "# numpy array's execution is faster than a python list operation"
   ]
  },
  {
   "cell_type": "markdown",
   "id": "23f5b274",
   "metadata": {},
   "source": [
    "### Ways to Create different types of arrays/matrix"
   ]
  },
  {
   "cell_type": "code",
   "execution_count": 5,
   "id": "469c9ae0",
   "metadata": {},
   "outputs": [
    {
     "name": "stdout",
     "output_type": "stream",
     "text": [
      "[[0. 0. 0. 0. 0.]\n",
      " [0. 0. 0. 0. 0.]\n",
      " [0. 0. 0. 0. 0.]]\n",
      "\n",
      " [[1. 1. 1. 1. 1.]\n",
      " [1. 1. 1. 1. 1.]\n",
      " [1. 1. 1. 1. 1.]]\n",
      "\n",
      " [[7 7 7]\n",
      " [7 7 7]]\n",
      "\n",
      " [[0.24666678 0.9659201  0.25549485]\n",
      " [0.32787614 0.54444876 0.7806239 ]]\n",
      "\n",
      " [0 2 4 6 8]\n"
     ]
    }
   ],
   "source": [
    "# There is a function to create array to create zero matrix\n",
    "zeroes = np.zeros((3,5))\n",
    "print(zeroes)\n",
    "\n",
    "# There is a function to create array to create ones matrix\n",
    "ones = np.ones((3,5))\n",
    "print(\"\\n\",ones)\n",
    "\n",
    "# There is a function to create array to create matrix with any desired constant value\n",
    "full = np.full((2,3), 7)\n",
    "print(\"\\n\", full)\n",
    "\n",
    "# There is a function to create array to create matrix with random values\n",
    "random= np.random.random((2,3))\n",
    "print(\"\\n\", random)\n",
    "\n",
    "# There is a function to create array to create matrix in a particular range with start, stop, jump value\n",
    "sequence = np.arange(0 ,10 ,2)\n",
    "print(\"\\n\", sequence)"
   ]
  },
  {
   "cell_type": "markdown",
   "id": "d5b58b39",
   "metadata": {},
   "source": [
    "### Vectors, Matrix and Tensor"
   ]
  },
  {
   "cell_type": "code",
   "execution_count": 6,
   "id": "3029ef8e",
   "metadata": {},
   "outputs": [
    {
     "name": "stdout",
     "output_type": "stream",
     "text": [
      "[1 2 3]\n",
      "\n",
      " [[1 2 3]\n",
      " [4 5 6]]\n",
      "\n",
      " [[[ 1  2  3]\n",
      "  [ 4  5  6]]\n",
      "\n",
      " [[ 7  8  9]\n",
      "  [10 11 12]]]\n"
     ]
    }
   ],
   "source": [
    "# 1D array is known as Vector\n",
    "Vector = np.array([1,2,3])\n",
    "print(Vector)\n",
    "\n",
    "# 2D array is known as Matrix\n",
    "Matrix = np.array([[1,2,3],[4,5,6]])\n",
    "print(\"\\n\",Matrix)\n",
    "\n",
    "# 3D array is known as Tensor\n",
    "Tensor = np.array([[[1,2,3],[4,5,6]], \n",
    "                   [[7,8,9],[10,11,12]]\n",
    "                   ])\n",
    "print(\"\\n\",Tensor)"
   ]
  },
  {
   "cell_type": "markdown",
   "id": "9d4bbdab",
   "metadata": {},
   "source": [
    "### Properties of Array"
   ]
  },
  {
   "cell_type": "code",
   "execution_count": 7,
   "id": "08fe0400",
   "metadata": {},
   "outputs": [
    {
     "name": "stdout",
     "output_type": "stream",
     "text": [
      "(2, 3)\n",
      "6\n",
      "2\n",
      "int64\n"
     ]
    }
   ],
   "source": [
    "# The most important thing about numpy array is that it is made to work on similar group of data, it is optimized for that\n",
    "array = np.array([[1,2,3],[4,5,6]])\n",
    "\n",
    "print(array.shape)\n",
    "print(array.size)\n",
    "print(array.ndim)\n",
    "print(array.dtype)"
   ]
  },
  {
   "cell_type": "markdown",
   "id": "84a6b48f",
   "metadata": {},
   "source": [
    "### Array Reshaping"
   ]
  },
  {
   "cell_type": "code",
   "execution_count": 10,
   "id": "ba74e930",
   "metadata": {},
   "outputs": [
    {
     "name": "stdout",
     "output_type": "stream",
     "text": [
      "[ 0  1  2  3  4  5  6  7  8  9 10 11]\n",
      "\n",
      " [[ 0  1  2  3]\n",
      " [ 4  5  6  7]\n",
      " [ 8  9 10 11]]\n",
      "\n",
      " [ 0  1  2  3  4  5  6  7  8  9 10 11]\n",
      "\n",
      " [ 0  1  2  3  4  5  6  7  8  9 10 11]\n",
      "\n",
      " [[ 0  4  8]\n",
      " [ 1  5  9]\n",
      " [ 2  6 10]\n",
      " [ 3  7 11]]\n"
     ]
    }
   ],
   "source": [
    "arr = np.arange(12)\n",
    "print(arr)\n",
    "\n",
    "reshaped = arr.reshape((3,4))\n",
    "print(\"\\n\",reshaped)\n",
    "\n",
    "flattened = arr.flatten()\n",
    "print(\"\\n\",flattened)\n",
    "\n",
    "# Returns view instead of copy same as flatten but only difference ravel tries not to create the copy \n",
    "raveled = arr.ravel()\n",
    "print(\"\\n\",raveled)\n",
    "\n",
    "transpose = reshaped.T\n",
    "print(\"\\n\",transpose)\n"
   ]
  }
 ],
 "metadata": {
  "kernelspec": {
   "display_name": "Python 3",
   "language": "python",
   "name": "python3"
  },
  "language_info": {
   "codemirror_mode": {
    "name": "ipython",
    "version": 3
   },
   "file_extension": ".py",
   "mimetype": "text/x-python",
   "name": "python",
   "nbconvert_exporter": "python",
   "pygments_lexer": "ipython3",
   "version": "3.11.13"
  }
 },
 "nbformat": 4,
 "nbformat_minor": 5
}
