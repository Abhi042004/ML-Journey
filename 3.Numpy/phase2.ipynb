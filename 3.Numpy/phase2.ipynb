{
 "cells": [
  {
   "cell_type": "markdown",
   "id": "18b13e6b",
   "metadata": {},
   "source": [
    "### Numpy Array Operations"
   ]
  },
  {
   "cell_type": "code",
   "execution_count": 2,
   "id": "00d53330",
   "metadata": {},
   "outputs": [],
   "source": [
    "import numpy as np"
   ]
  },
  {
   "cell_type": "code",
   "execution_count": 3,
   "id": "da3c604e",
   "metadata": {},
   "outputs": [
    {
     "name": "stdout",
     "output_type": "stream",
     "text": [
      "Basic Slicing:  [3 4 5 6 7 8]\n",
      "Step:  [5 7]\n",
      "Negative:  9\n"
     ]
    }
   ],
   "source": [
    "# Slicing\n",
    "arr = np.arange(1,12)\n",
    "print(\"Basic Slicing: \",arr[2:8])\n",
    "print(\"Step: \",arr[4:8:2])\n",
    "print(\"Negative: \",arr[-3])"
   ]
  },
  {
   "cell_type": "code",
   "execution_count": 4,
   "id": "9e77d3e2",
   "metadata": {},
   "outputs": [
    {
     "name": "stdout",
     "output_type": "stream",
     "text": [
      "Specific element:  6\n",
      "Entire row:  [4 5 6]\n",
      "Entire column:  [1 4 7]\n"
     ]
    }
   ],
   "source": [
    "arr2d = np.array([[1,2,3],[4,5,6],[7,8,9]])\n",
    "print(\"Specific element: \",arr2d[1 , 2])\n",
    "print(\"Entire row: \",arr2d[1 , :])\n",
    "print(\"Entire column: \",arr2d[: ,0])"
   ]
  },
  {
   "cell_type": "markdown",
   "id": "24a5fbff",
   "metadata": {},
   "source": [
    "### Sorting"
   ]
  },
  {
   "cell_type": "code",
   "execution_count": 5,
   "id": "5654ebed",
   "metadata": {},
   "outputs": [
    {
     "name": "stdout",
     "output_type": "stream",
     "text": [
      "Sorted 1D array:  [1 2 3 4 5 6 7]\n",
      "Sorted 2D array(Columns): \n",
      " [[3 2 1]\n",
      " [5 2 5]\n",
      " [8 3 6]]\n",
      "Sorted 2D array(Rows): \n",
      " [[1 2 5]\n",
      " [3 6 8]\n",
      " [2 3 5]]\n"
     ]
    }
   ],
   "source": [
    "unsorted1d = np.array([3,1,6,7,2,5,4])\n",
    "print(\"Sorted 1D array: \",np.sort(unsorted1d))\n",
    "\n",
    "unsorted2d = np.array([[5,2,1],[8,3,6],[3,2,5]])\n",
    "print(\"Sorted 2D array(Columns): \\n\",np.sort(unsorted2d, axis=0))\n",
    "print(\"Sorted 2D array(Rows): \\n\",np.sort(unsorted2d, axis=1))"
   ]
  },
  {
   "cell_type": "markdown",
   "id": "837f16fd",
   "metadata": {},
   "source": [
    "### Filter"
   ]
  },
  {
   "cell_type": "code",
   "execution_count": 6,
   "id": "aacf0e07",
   "metadata": {},
   "outputs": [
    {
     "name": "stdout",
     "output_type": "stream",
     "text": [
      "Filtered Array:  [ 2  4  6  8 10]\n"
     ]
    }
   ],
   "source": [
    "numbers = np.array([1,2,3,4,5,6,7,8,9,10])\n",
    "even_numbers = numbers[numbers%2 == 0]\n",
    "print(\"Filtered Array: \",even_numbers)"
   ]
  },
  {
   "cell_type": "markdown",
   "id": "e3044696",
   "metadata": {},
   "source": [
    "### Filter with Mask"
   ]
  },
  {
   "cell_type": "code",
   "execution_count": 7,
   "id": "1e1c1bd4",
   "metadata": {},
   "outputs": [
    {
     "name": "stdout",
     "output_type": "stream",
     "text": [
      "Using mask [ 6  7  8  9 10]\n"
     ]
    }
   ],
   "source": [
    "\n",
    "mask = numbers>5\n",
    "arrays = numbers[mask]\n",
    "print(\"Using mask\",arrays)"
   ]
  },
  {
   "cell_type": "markdown",
   "id": "94149aca",
   "metadata": {},
   "source": [
    "### Fancy Indexing vs np.where()"
   ]
  },
  {
   "cell_type": "code",
   "execution_count": null,
   "id": "f7e9300c",
   "metadata": {},
   "outputs": [
    {
     "name": "stdout",
     "output_type": "stream",
     "text": [
      "[2 3 5]\n",
      "[ 6  7  8  9 10]\n",
      "[  0   0   0   0   0 100 100 100 100 100]\n"
     ]
    }
   ],
   "source": [
    "# [1,2,3,4,5,6,7,8,9,10]\n",
    "indices = [1,2,4]\n",
    "print(numbers[indices])\n",
    "\n",
    "# Difference between mask and where is mask first converts into boolean array \n",
    "# for the specified condition and in where we get the values of the array indices directly\n",
    "where_result = np.where(numbers>5) \n",
    "# It is returning indices\n",
    "print(numbers[where_result])\n",
    "\n",
    "where_result = np.where(numbers>5,100, 0) \n",
    "# first parameter is condition , second is if it true, third is else condition\n",
    "# It is directly returning values\n",
    "print(where_result)"
   ]
  },
  {
   "cell_type": "markdown",
   "id": "cfdf6e32",
   "metadata": {},
   "source": [
    "### Adding and Removing Array"
   ]
  },
  {
   "cell_type": "code",
   "execution_count": 9,
   "id": "ff8d2755",
   "metadata": {},
   "outputs": [
    {
     "name": "stdout",
     "output_type": "stream",
     "text": [
      "Addition of 2 Arrays: \n",
      " [5 7 9]\n",
      "Concatenated Array: \n",
      " [1 2 3 4 5 6]\n"
     ]
    }
   ],
   "source": [
    "arr1 = np.array((1,2,3))\n",
    "arr2 = np.array((4,5,6))\n",
    "print(\"Addition of 2 Arrays: \\n\",arr1+arr2)\n",
    "print(\"Concatenated Array: \\n\",np.concatenate((arr1 ,arr2)))"
   ]
  },
  {
   "cell_type": "markdown",
   "id": "53e19508",
   "metadata": {},
   "source": [
    "### Compatibility"
   ]
  },
  {
   "cell_type": "code",
   "execution_count": 10,
   "id": "c3fb1ad4",
   "metadata": {},
   "outputs": [
    {
     "name": "stdout",
     "output_type": "stream",
     "text": [
      "Compatibility of the shapes is True\n"
     ]
    }
   ],
   "source": [
    "a = np.array([1,2,3])\n",
    "b = np.array([4,5,6])\n",
    "print(\"Compatibility of the shapes is\",a.shape == b.shape)"
   ]
  },
  {
   "cell_type": "code",
   "execution_count": 12,
   "id": "c0823491",
   "metadata": {},
   "outputs": [
    {
     "name": "stdout",
     "output_type": "stream",
     "text": [
      "Rows are Added:\n",
      " [[1 2 3]\n",
      " [4 5 6]]\n",
      "Columns are Added:\n",
      " [1 2 3 4 5 6]\n"
     ]
    }
   ],
   "source": [
    "original = np.array([1,2,3])\n",
    "arr1 = np.array([4,5,6])\n",
    "print(\"Rows are Added:\\n\", np.vstack((original,arr1)))\n",
    "\n",
    "print(\"Columns are Added:\\n\", np.hstack((original,arr1)))"
   ]
  }
 ],
 "metadata": {
  "kernelspec": {
   "display_name": "Python 3",
   "language": "python",
   "name": "python3"
  },
  "language_info": {
   "codemirror_mode": {
    "name": "ipython",
    "version": 3
   },
   "file_extension": ".py",
   "mimetype": "text/x-python",
   "name": "python",
   "nbconvert_exporter": "python",
   "pygments_lexer": "ipython3",
   "version": "3.11.13"
  }
 },
 "nbformat": 4,
 "nbformat_minor": 5
}
