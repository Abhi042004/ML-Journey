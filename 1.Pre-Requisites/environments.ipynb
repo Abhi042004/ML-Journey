{
 "cells": [
  {
   "cell_type": "markdown",
   "id": "ee1ed76d",
   "metadata": {},
   "source": [
    "## Environments\n",
    "\n",
    "A Python environment is a separate workspace where you can install specific Python packages and tools needed for one project, without affecting other projects.\n",
    "\n",
    "### Why Use It:  \n",
    "\n",
    "Keeps each project’s tools separate.\n",
    "\n",
    "Different projects requires different versions of the same tool .\n",
    "\n",
    "It's easy to share the tools we needed to build/run this project using a requirements.txt ."
   ]
  },
  {
   "cell_type": "markdown",
   "id": "78915c25",
   "metadata": {},
   "source": [
    "### Creating an environment\n",
    "\n",
    "Write the command in your cmd:  \n",
    "\n",
    "    conda create -p myenv python=3.14\n",
    "\n",
    "#### Breakdown:  \n",
    "\n",
    "| Part           | Meaning                                                                         |\n",
    "|----------------|---------------------------------------------------------------------------------|\n",
    "| `conda`        | The command-line tool to manage environments and packages                       |\n",
    "| `create`       | Tells Conda to create a new environment                                         |\n",
    "| `-p`           | Specifies the exact location (folder path) where the environment will be created|\n",
    "| `myenv`        | Creates a folder named `myenv` in the current directory to store the environment  |\n",
    "| `python=3.14`  | Installs Python version 3.14 inside the environment                             |\n",
    "----------------------------------------------------------------------------------------------------\n",
    "\n"
   ]
  },
  {
   "cell_type": "markdown",
   "id": "6c22764b",
   "metadata": {},
   "source": [
    "After creating a .ipynb file, then in the cmd write  \n",
    "  \n",
    "`pip install ipykernel`  \n",
    "       \n",
    "It is required so that our python code can run in jupyter notebook. It helps to interact with it.  \n",
    "\n",
    "\n",
    "Also create a requirements.txt file, it is used to install all the packages that are required to run the project\n",
    "   "
   ]
  },
  {
   "cell_type": "code",
   "execution_count": 2,
   "id": "93f7325c",
   "metadata": {},
   "outputs": [
    {
     "name": "stdout",
     "output_type": "stream",
     "text": [
      "Hello world\n"
     ]
    }
   ],
   "source": [
    "print(\"Hello world\")"
   ]
  }
 ],
 "metadata": {
  "kernelspec": {
   "display_name": "Python 3",
   "language": "python",
   "name": "python3"
  },
  "language_info": {
   "codemirror_mode": {
    "name": "ipython",
    "version": 3
   },
   "file_extension": ".py",
   "mimetype": "text/x-python",
   "name": "python",
   "nbconvert_exporter": "python",
   "pygments_lexer": "ipython3",
   "version": "3.11.13"
  }
 },
 "nbformat": 4,
 "nbformat_minor": 5
}
